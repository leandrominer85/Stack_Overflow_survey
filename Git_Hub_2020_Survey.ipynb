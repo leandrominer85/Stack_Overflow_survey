{
 "cells": [
  {
   "cell_type": "code",
   "execution_count": 1,
   "metadata": {},
   "outputs": [],
   "source": [
    "import pandas as pd\n",
    "import seaborn as sns\n",
    "import matplotlib.pyplot as plt\n",
    "import warnings\n",
    "import numpy as np\n",
    "warnings.filterwarnings('ignore')\n",
    "pd.set_option('display.max_rows', 100)"
   ]
  },
  {
   "cell_type": "code",
   "execution_count": 2,
   "metadata": {},
   "outputs": [],
   "source": [
    "def language_extractor (df,col, sep):\n",
    "    '''\n",
    "    \n",
    "    This function iterate trought the columns of the dataframe and splits the the resulting string\n",
    "    with the provided separator. Then it adds to a dictionary.\n",
    "    The column cannot have NANs values\n",
    "    \n",
    "    \n",
    "    INPUT:\n",
    "    df - pandas dataframe with string variables you want to separate\n",
    "    col - list of columns you want to extract or a single string\n",
    "    sep - the separator of the string as a string format\n",
    "    \n",
    "    OUTPUT:\n",
    "    dic - a ordered dictionary with the string as key and the number of occurances as values\n",
    "    '''\n",
    "    \n",
    "    if df[col].isna().any() == True:\n",
    "        raise Exception(\"The data contais NAN values\") \n",
    "    \n",
    "    \n",
    "    \n",
    "    dic = {}\n",
    "    \n",
    "    \n",
    "    \n",
    "    for i in df[col]:\n",
    "        lang_list = i.split(sep=sep)\n",
    "        for l in lang_list:\n",
    "            if l in dic:\n",
    "                dic[l] += 1\n",
    "            else:\n",
    "                dic[l] = 1\n",
    "    return dict(sorted(dic.items(), key=lambda item: item[1],reverse=True))"
   ]
  },
  {
   "cell_type": "code",
   "execution_count": 3,
   "metadata": {},
   "outputs": [],
   "source": [
    "#reading the dataframe\n",
    "df = pd.read_csv(r\"data/survey_results_public.csv\")"
   ]
  },
  {
   "cell_type": "code",
   "execution_count": 4,
   "metadata": {},
   "outputs": [
    {
     "data": {
      "text/html": [
       "<div>\n",
       "<style scoped>\n",
       "    .dataframe tbody tr th:only-of-type {\n",
       "        vertical-align: middle;\n",
       "    }\n",
       "\n",
       "    .dataframe tbody tr th {\n",
       "        vertical-align: top;\n",
       "    }\n",
       "\n",
       "    .dataframe thead th {\n",
       "        text-align: right;\n",
       "    }\n",
       "</style>\n",
       "<table border=\"1\" class=\"dataframe\">\n",
       "  <thead>\n",
       "    <tr style=\"text-align: right;\">\n",
       "      <th></th>\n",
       "      <th>Respondent</th>\n",
       "      <th>MainBranch</th>\n",
       "      <th>Hobbyist</th>\n",
       "      <th>Age</th>\n",
       "      <th>Age1stCode</th>\n",
       "      <th>CompFreq</th>\n",
       "      <th>CompTotal</th>\n",
       "      <th>ConvertedComp</th>\n",
       "      <th>Country</th>\n",
       "      <th>CurrencyDesc</th>\n",
       "      <th>...</th>\n",
       "      <th>SurveyEase</th>\n",
       "      <th>SurveyLength</th>\n",
       "      <th>Trans</th>\n",
       "      <th>UndergradMajor</th>\n",
       "      <th>WebframeDesireNextYear</th>\n",
       "      <th>WebframeWorkedWith</th>\n",
       "      <th>WelcomeChange</th>\n",
       "      <th>WorkWeekHrs</th>\n",
       "      <th>YearsCode</th>\n",
       "      <th>YearsCodePro</th>\n",
       "    </tr>\n",
       "  </thead>\n",
       "  <tbody>\n",
       "    <tr>\n",
       "      <th>0</th>\n",
       "      <td>1</td>\n",
       "      <td>I am a developer by profession</td>\n",
       "      <td>Yes</td>\n",
       "      <td>NaN</td>\n",
       "      <td>13</td>\n",
       "      <td>Monthly</td>\n",
       "      <td>NaN</td>\n",
       "      <td>NaN</td>\n",
       "      <td>Germany</td>\n",
       "      <td>European Euro</td>\n",
       "      <td>...</td>\n",
       "      <td>Neither easy nor difficult</td>\n",
       "      <td>Appropriate in length</td>\n",
       "      <td>No</td>\n",
       "      <td>Computer science, computer engineering, or sof...</td>\n",
       "      <td>ASP.NET Core</td>\n",
       "      <td>ASP.NET;ASP.NET Core</td>\n",
       "      <td>Just as welcome now as I felt last year</td>\n",
       "      <td>50.0</td>\n",
       "      <td>36</td>\n",
       "      <td>27</td>\n",
       "    </tr>\n",
       "    <tr>\n",
       "      <th>1</th>\n",
       "      <td>2</td>\n",
       "      <td>I am a developer by profession</td>\n",
       "      <td>No</td>\n",
       "      <td>NaN</td>\n",
       "      <td>19</td>\n",
       "      <td>NaN</td>\n",
       "      <td>NaN</td>\n",
       "      <td>NaN</td>\n",
       "      <td>United Kingdom</td>\n",
       "      <td>Pound sterling</td>\n",
       "      <td>...</td>\n",
       "      <td>NaN</td>\n",
       "      <td>NaN</td>\n",
       "      <td>NaN</td>\n",
       "      <td>Computer science, computer engineering, or sof...</td>\n",
       "      <td>NaN</td>\n",
       "      <td>NaN</td>\n",
       "      <td>Somewhat more welcome now than last year</td>\n",
       "      <td>NaN</td>\n",
       "      <td>7</td>\n",
       "      <td>4</td>\n",
       "    </tr>\n",
       "    <tr>\n",
       "      <th>2</th>\n",
       "      <td>3</td>\n",
       "      <td>I code primarily as a hobby</td>\n",
       "      <td>Yes</td>\n",
       "      <td>NaN</td>\n",
       "      <td>15</td>\n",
       "      <td>NaN</td>\n",
       "      <td>NaN</td>\n",
       "      <td>NaN</td>\n",
       "      <td>Russian Federation</td>\n",
       "      <td>NaN</td>\n",
       "      <td>...</td>\n",
       "      <td>Neither easy nor difficult</td>\n",
       "      <td>Appropriate in length</td>\n",
       "      <td>NaN</td>\n",
       "      <td>NaN</td>\n",
       "      <td>NaN</td>\n",
       "      <td>NaN</td>\n",
       "      <td>Somewhat more welcome now than last year</td>\n",
       "      <td>NaN</td>\n",
       "      <td>4</td>\n",
       "      <td>NaN</td>\n",
       "    </tr>\n",
       "    <tr>\n",
       "      <th>3</th>\n",
       "      <td>4</td>\n",
       "      <td>I am a developer by profession</td>\n",
       "      <td>Yes</td>\n",
       "      <td>25.0</td>\n",
       "      <td>18</td>\n",
       "      <td>NaN</td>\n",
       "      <td>NaN</td>\n",
       "      <td>NaN</td>\n",
       "      <td>Albania</td>\n",
       "      <td>Albanian lek</td>\n",
       "      <td>...</td>\n",
       "      <td>NaN</td>\n",
       "      <td>NaN</td>\n",
       "      <td>No</td>\n",
       "      <td>Computer science, computer engineering, or sof...</td>\n",
       "      <td>NaN</td>\n",
       "      <td>NaN</td>\n",
       "      <td>Somewhat less welcome now than last year</td>\n",
       "      <td>40.0</td>\n",
       "      <td>7</td>\n",
       "      <td>4</td>\n",
       "    </tr>\n",
       "    <tr>\n",
       "      <th>4</th>\n",
       "      <td>5</td>\n",
       "      <td>I used to be a developer by profession, but no...</td>\n",
       "      <td>Yes</td>\n",
       "      <td>31.0</td>\n",
       "      <td>16</td>\n",
       "      <td>NaN</td>\n",
       "      <td>NaN</td>\n",
       "      <td>NaN</td>\n",
       "      <td>United States</td>\n",
       "      <td>NaN</td>\n",
       "      <td>...</td>\n",
       "      <td>Easy</td>\n",
       "      <td>Too short</td>\n",
       "      <td>No</td>\n",
       "      <td>Computer science, computer engineering, or sof...</td>\n",
       "      <td>Django;Ruby on Rails</td>\n",
       "      <td>Ruby on Rails</td>\n",
       "      <td>Just as welcome now as I felt last year</td>\n",
       "      <td>NaN</td>\n",
       "      <td>15</td>\n",
       "      <td>8</td>\n",
       "    </tr>\n",
       "  </tbody>\n",
       "</table>\n",
       "<p>5 rows × 61 columns</p>\n",
       "</div>"
      ],
      "text/plain": [
       "   Respondent                                         MainBranch Hobbyist  \\\n",
       "0           1                     I am a developer by profession      Yes   \n",
       "1           2                     I am a developer by profession       No   \n",
       "2           3                        I code primarily as a hobby      Yes   \n",
       "3           4                     I am a developer by profession      Yes   \n",
       "4           5  I used to be a developer by profession, but no...      Yes   \n",
       "\n",
       "    Age Age1stCode CompFreq  CompTotal  ConvertedComp             Country  \\\n",
       "0   NaN         13  Monthly        NaN            NaN             Germany   \n",
       "1   NaN         19      NaN        NaN            NaN      United Kingdom   \n",
       "2   NaN         15      NaN        NaN            NaN  Russian Federation   \n",
       "3  25.0         18      NaN        NaN            NaN             Albania   \n",
       "4  31.0         16      NaN        NaN            NaN       United States   \n",
       "\n",
       "     CurrencyDesc  ...                  SurveyEase           SurveyLength  \\\n",
       "0   European Euro  ...  Neither easy nor difficult  Appropriate in length   \n",
       "1  Pound sterling  ...                         NaN                    NaN   \n",
       "2             NaN  ...  Neither easy nor difficult  Appropriate in length   \n",
       "3    Albanian lek  ...                         NaN                    NaN   \n",
       "4             NaN  ...                        Easy              Too short   \n",
       "\n",
       "  Trans                                     UndergradMajor  \\\n",
       "0    No  Computer science, computer engineering, or sof...   \n",
       "1   NaN  Computer science, computer engineering, or sof...   \n",
       "2   NaN                                                NaN   \n",
       "3    No  Computer science, computer engineering, or sof...   \n",
       "4    No  Computer science, computer engineering, or sof...   \n",
       "\n",
       "  WebframeDesireNextYear    WebframeWorkedWith  \\\n",
       "0           ASP.NET Core  ASP.NET;ASP.NET Core   \n",
       "1                    NaN                   NaN   \n",
       "2                    NaN                   NaN   \n",
       "3                    NaN                   NaN   \n",
       "4   Django;Ruby on Rails         Ruby on Rails   \n",
       "\n",
       "                              WelcomeChange WorkWeekHrs YearsCode YearsCodePro  \n",
       "0   Just as welcome now as I felt last year        50.0        36           27  \n",
       "1  Somewhat more welcome now than last year         NaN         7            4  \n",
       "2  Somewhat more welcome now than last year         NaN         4          NaN  \n",
       "3  Somewhat less welcome now than last year        40.0         7            4  \n",
       "4   Just as welcome now as I felt last year         NaN        15            8  \n",
       "\n",
       "[5 rows x 61 columns]"
      ]
     },
     "execution_count": 4,
     "metadata": {},
     "output_type": "execute_result"
    }
   ],
   "source": [
    "df.head()"
   ]
  },
  {
   "cell_type": "code",
   "execution_count": 5,
   "metadata": {},
   "outputs": [
    {
     "data": {
      "text/plain": [
       "(64461, 61)"
      ]
     },
     "execution_count": 5,
     "metadata": {},
     "output_type": "execute_result"
    }
   ],
   "source": [
    "df.shape"
   ]
  },
  {
   "cell_type": "code",
   "execution_count": 6,
   "metadata": {},
   "outputs": [
    {
     "data": {
      "text/plain": [
       "Index(['Respondent', 'MainBranch', 'Hobbyist', 'Age', 'Age1stCode', 'CompFreq',\n",
       "       'CompTotal', 'ConvertedComp', 'Country', 'CurrencyDesc',\n",
       "       'CurrencySymbol', 'DatabaseDesireNextYear', 'DatabaseWorkedWith',\n",
       "       'DevType', 'EdLevel', 'Employment', 'Ethnicity', 'Gender', 'JobFactors',\n",
       "       'JobSat', 'JobSeek', 'LanguageDesireNextYear', 'LanguageWorkedWith',\n",
       "       'MiscTechDesireNextYear', 'MiscTechWorkedWith',\n",
       "       'NEWCollabToolsDesireNextYear', 'NEWCollabToolsWorkedWith', 'NEWDevOps',\n",
       "       'NEWDevOpsImpt', 'NEWEdImpt', 'NEWJobHunt', 'NEWJobHuntResearch',\n",
       "       'NEWLearn', 'NEWOffTopic', 'NEWOnboardGood', 'NEWOtherComms',\n",
       "       'NEWOvertime', 'NEWPurchaseResearch', 'NEWPurpleLink', 'NEWSOSites',\n",
       "       'NEWStuck', 'OpSys', 'OrgSize', 'PlatformDesireNextYear',\n",
       "       'PlatformWorkedWith', 'PurchaseWhat', 'Sexuality', 'SOAccount',\n",
       "       'SOComm', 'SOPartFreq', 'SOVisitFreq', 'SurveyEase', 'SurveyLength',\n",
       "       'Trans', 'UndergradMajor', 'WebframeDesireNextYear',\n",
       "       'WebframeWorkedWith', 'WelcomeChange', 'WorkWeekHrs', 'YearsCode',\n",
       "       'YearsCodePro'],\n",
       "      dtype='object')"
      ]
     },
     "execution_count": 6,
     "metadata": {},
     "output_type": "execute_result"
    }
   ],
   "source": [
    "df.columns"
   ]
  },
  {
   "cell_type": "code",
   "execution_count": 7,
   "metadata": {},
   "outputs": [
    {
     "data": {
      "text/plain": [
       "0.4608212717767332"
      ]
     },
     "execution_count": 7,
     "metadata": {},
     "output_type": "execute_result"
    }
   ],
   "source": [
    "#What is the percentage of NANs in Salary ?\n",
    "df.ConvertedComp.isna().sum()/len(df)"
   ]
  },
  {
   "cell_type": "code",
   "execution_count": 8,
   "metadata": {},
   "outputs": [],
   "source": [
    "# Removing the NANs in the salary column to get only the working coders\n",
    "df_salary = df[df.ConvertedComp.isna() == False]"
   ]
  },
  {
   "cell_type": "code",
   "execution_count": 9,
   "metadata": {},
   "outputs": [
    {
     "data": {
      "text/plain": [
       "False"
      ]
     },
     "execution_count": 9,
     "metadata": {},
     "output_type": "execute_result"
    }
   ],
   "source": [
    "df_salary.ConvertedComp.isna().any()"
   ]
  },
  {
   "cell_type": "code",
   "execution_count": 10,
   "metadata": {},
   "outputs": [
    {
     "data": {
      "text/plain": [
       "(34756, 61)"
      ]
     },
     "execution_count": 10,
     "metadata": {},
     "output_type": "execute_result"
    }
   ],
   "source": [
    "df_salary.shape"
   ]
  },
  {
   "cell_type": "code",
   "execution_count": 11,
   "metadata": {},
   "outputs": [
    {
     "data": {
      "text/plain": [
       "159"
      ]
     },
     "execution_count": 11,
     "metadata": {},
     "output_type": "execute_result"
    }
   ],
   "source": [
    "df_salary.Country.nunique()"
   ]
  },
  {
   "cell_type": "code",
   "execution_count": 12,
   "metadata": {},
   "outputs": [],
   "source": [
    "# Creating a list of the developed countries (Very high human development) according to the UNDP\n",
    "# (http://hdr.undp.org/sites/default/files/hdr2020.pdf)  \n",
    "list_idh = [\"Norway\",\"Ireland\",\"Switzerland\",\"Hong Kong\",\"Iceland\",\"Germany\",\"Sweden\",\"Australia\"\n",
    ",\"Netherlands\",\"Denmark\",\"Finland\",\"Singapore\",\"United Kingdom\",\"Belgium\",\"New Zealand\",\"Canada\"\n",
    ",\"United States\",\"Austria\",\"Israel\",\"Japan\",\"Liechtenstein\",\"Slovenia\",\"South Korea\",\"Luxembourg\"\n",
    ",\"Spain\",\"France\",\"Czechia\",\"Malta\",\"Estonia\",\"Italy\",\"United Arab Emirates\",\"Greece\",\"Cyprus\"\n",
    ",\"Lithuania\",\"Poland\",\"Andorra\",\"Latvia\",\"Portugal\",\"Slovakia\",\"Hungary\",\"Saudi Arabia\",\"Bahrain\"\n",
    ",\"Chile\",\"Croatia\",\"Qatar\",\"Argentina\",\"Brunei\",\"Montenegro\",\"Romania\",\"Palau\",\"Kazakhstan\",\"Russia\"\n",
    ",\"Belarus\",\"Turkey\",\"Uruguay\",\"Bulgaria\",\"Panama\",\"Bahamas\",\"Barbados\",\"Oman\",\"Georgia\",\"Costa Rica\"\n",
    ",\"Malaysia\",\"Kuwait\",\"Serbia\",\"Mauritius\"]\n"
   ]
  },
  {
   "cell_type": "code",
   "execution_count": 13,
   "metadata": {},
   "outputs": [],
   "source": [
    "# Creating a dataframe with the developed countries\n",
    "df_dev = df_salary[df_salary.Country.isin(list_idh)]"
   ]
  },
  {
   "cell_type": "code",
   "execution_count": 14,
   "metadata": {},
   "outputs": [
    {
     "data": {
      "text/html": [
       "<div>\n",
       "<style scoped>\n",
       "    .dataframe tbody tr th:only-of-type {\n",
       "        vertical-align: middle;\n",
       "    }\n",
       "\n",
       "    .dataframe tbody tr th {\n",
       "        vertical-align: top;\n",
       "    }\n",
       "\n",
       "    .dataframe thead th {\n",
       "        text-align: right;\n",
       "    }\n",
       "</style>\n",
       "<table border=\"1\" class=\"dataframe\">\n",
       "  <thead>\n",
       "    <tr style=\"text-align: right;\">\n",
       "      <th></th>\n",
       "      <th>Respondent</th>\n",
       "      <th>MainBranch</th>\n",
       "      <th>Hobbyist</th>\n",
       "      <th>Age</th>\n",
       "      <th>Age1stCode</th>\n",
       "      <th>CompFreq</th>\n",
       "      <th>CompTotal</th>\n",
       "      <th>ConvertedComp</th>\n",
       "      <th>Country</th>\n",
       "      <th>CurrencyDesc</th>\n",
       "      <th>...</th>\n",
       "      <th>SurveyEase</th>\n",
       "      <th>SurveyLength</th>\n",
       "      <th>Trans</th>\n",
       "      <th>UndergradMajor</th>\n",
       "      <th>WebframeDesireNextYear</th>\n",
       "      <th>WebframeWorkedWith</th>\n",
       "      <th>WelcomeChange</th>\n",
       "      <th>WorkWeekHrs</th>\n",
       "      <th>YearsCode</th>\n",
       "      <th>YearsCodePro</th>\n",
       "    </tr>\n",
       "  </thead>\n",
       "  <tbody>\n",
       "    <tr>\n",
       "      <th>7</th>\n",
       "      <td>8</td>\n",
       "      <td>I am a developer by profession</td>\n",
       "      <td>Yes</td>\n",
       "      <td>36.0</td>\n",
       "      <td>12</td>\n",
       "      <td>Yearly</td>\n",
       "      <td>116000.0</td>\n",
       "      <td>116000.0</td>\n",
       "      <td>United States</td>\n",
       "      <td>United States dollar</td>\n",
       "      <td>...</td>\n",
       "      <td>Easy</td>\n",
       "      <td>Appropriate in length</td>\n",
       "      <td>No</td>\n",
       "      <td>Computer science, computer engineering, or sof...</td>\n",
       "      <td>Django;React.js;Vue.js</td>\n",
       "      <td>Flask</td>\n",
       "      <td>Just as welcome now as I felt last year</td>\n",
       "      <td>39.0</td>\n",
       "      <td>17</td>\n",
       "      <td>13</td>\n",
       "    </tr>\n",
       "    <tr>\n",
       "      <th>9</th>\n",
       "      <td>10</td>\n",
       "      <td>I am a developer by profession</td>\n",
       "      <td>Yes</td>\n",
       "      <td>22.0</td>\n",
       "      <td>14</td>\n",
       "      <td>Yearly</td>\n",
       "      <td>25000.0</td>\n",
       "      <td>32315.0</td>\n",
       "      <td>United Kingdom</td>\n",
       "      <td>Pound sterling</td>\n",
       "      <td>...</td>\n",
       "      <td>Easy</td>\n",
       "      <td>Appropriate in length</td>\n",
       "      <td>No</td>\n",
       "      <td>Mathematics or statistics</td>\n",
       "      <td>Flask;jQuery</td>\n",
       "      <td>Flask;jQuery</td>\n",
       "      <td>Somewhat more welcome now than last year</td>\n",
       "      <td>36.0</td>\n",
       "      <td>8</td>\n",
       "      <td>4</td>\n",
       "    </tr>\n",
       "    <tr>\n",
       "      <th>10</th>\n",
       "      <td>11</td>\n",
       "      <td>I am a developer by profession</td>\n",
       "      <td>Yes</td>\n",
       "      <td>23.0</td>\n",
       "      <td>13</td>\n",
       "      <td>Yearly</td>\n",
       "      <td>31000.0</td>\n",
       "      <td>40070.0</td>\n",
       "      <td>United Kingdom</td>\n",
       "      <td>Pound sterling</td>\n",
       "      <td>...</td>\n",
       "      <td>Easy</td>\n",
       "      <td>Appropriate in length</td>\n",
       "      <td>No</td>\n",
       "      <td>Computer science, computer engineering, or sof...</td>\n",
       "      <td>Angular;Django;React.js</td>\n",
       "      <td>Angular;Angular.js;Django;React.js</td>\n",
       "      <td>Just as welcome now as I felt last year</td>\n",
       "      <td>40.0</td>\n",
       "      <td>10</td>\n",
       "      <td>2</td>\n",
       "    </tr>\n",
       "    <tr>\n",
       "      <th>11</th>\n",
       "      <td>12</td>\n",
       "      <td>I am a developer by profession</td>\n",
       "      <td>No</td>\n",
       "      <td>49.0</td>\n",
       "      <td>42</td>\n",
       "      <td>Monthly</td>\n",
       "      <td>1100.0</td>\n",
       "      <td>14268.0</td>\n",
       "      <td>Spain</td>\n",
       "      <td>European Euro</td>\n",
       "      <td>...</td>\n",
       "      <td>Easy</td>\n",
       "      <td>Appropriate in length</td>\n",
       "      <td>No</td>\n",
       "      <td>Mathematics or statistics</td>\n",
       "      <td>ASP.NET;jQuery</td>\n",
       "      <td>ASP.NET;jQuery</td>\n",
       "      <td>Just as welcome now as I felt last year</td>\n",
       "      <td>40.0</td>\n",
       "      <td>7</td>\n",
       "      <td>7</td>\n",
       "    </tr>\n",
       "    <tr>\n",
       "      <th>12</th>\n",
       "      <td>13</td>\n",
       "      <td>I am not primarily a developer, but I write co...</td>\n",
       "      <td>Yes</td>\n",
       "      <td>53.0</td>\n",
       "      <td>14</td>\n",
       "      <td>Monthly</td>\n",
       "      <td>3000.0</td>\n",
       "      <td>38916.0</td>\n",
       "      <td>Netherlands</td>\n",
       "      <td>European Euro</td>\n",
       "      <td>...</td>\n",
       "      <td>Neither easy nor difficult</td>\n",
       "      <td>Too long</td>\n",
       "      <td>No</td>\n",
       "      <td>NaN</td>\n",
       "      <td>NaN</td>\n",
       "      <td>NaN</td>\n",
       "      <td>A lot less welcome now than last year</td>\n",
       "      <td>36.0</td>\n",
       "      <td>35</td>\n",
       "      <td>20</td>\n",
       "    </tr>\n",
       "  </tbody>\n",
       "</table>\n",
       "<p>5 rows × 61 columns</p>\n",
       "</div>"
      ],
      "text/plain": [
       "    Respondent                                         MainBranch Hobbyist  \\\n",
       "7            8                     I am a developer by profession      Yes   \n",
       "9           10                     I am a developer by profession      Yes   \n",
       "10          11                     I am a developer by profession      Yes   \n",
       "11          12                     I am a developer by profession       No   \n",
       "12          13  I am not primarily a developer, but I write co...      Yes   \n",
       "\n",
       "     Age Age1stCode CompFreq  CompTotal  ConvertedComp         Country  \\\n",
       "7   36.0         12   Yearly   116000.0       116000.0   United States   \n",
       "9   22.0         14   Yearly    25000.0        32315.0  United Kingdom   \n",
       "10  23.0         13   Yearly    31000.0        40070.0  United Kingdom   \n",
       "11  49.0         42  Monthly     1100.0        14268.0           Spain   \n",
       "12  53.0         14  Monthly     3000.0        38916.0     Netherlands   \n",
       "\n",
       "            CurrencyDesc  ...                  SurveyEase  \\\n",
       "7   United States dollar  ...                        Easy   \n",
       "9         Pound sterling  ...                        Easy   \n",
       "10        Pound sterling  ...                        Easy   \n",
       "11         European Euro  ...                        Easy   \n",
       "12         European Euro  ...  Neither easy nor difficult   \n",
       "\n",
       "             SurveyLength Trans  \\\n",
       "7   Appropriate in length    No   \n",
       "9   Appropriate in length    No   \n",
       "10  Appropriate in length    No   \n",
       "11  Appropriate in length    No   \n",
       "12               Too long    No   \n",
       "\n",
       "                                       UndergradMajor  \\\n",
       "7   Computer science, computer engineering, or sof...   \n",
       "9                           Mathematics or statistics   \n",
       "10  Computer science, computer engineering, or sof...   \n",
       "11                          Mathematics or statistics   \n",
       "12                                                NaN   \n",
       "\n",
       "     WebframeDesireNextYear                  WebframeWorkedWith  \\\n",
       "7    Django;React.js;Vue.js                               Flask   \n",
       "9              Flask;jQuery                        Flask;jQuery   \n",
       "10  Angular;Django;React.js  Angular;Angular.js;Django;React.js   \n",
       "11           ASP.NET;jQuery                      ASP.NET;jQuery   \n",
       "12                      NaN                                 NaN   \n",
       "\n",
       "                               WelcomeChange WorkWeekHrs YearsCode  \\\n",
       "7    Just as welcome now as I felt last year        39.0        17   \n",
       "9   Somewhat more welcome now than last year        36.0         8   \n",
       "10   Just as welcome now as I felt last year        40.0        10   \n",
       "11   Just as welcome now as I felt last year        40.0         7   \n",
       "12     A lot less welcome now than last year        36.0        35   \n",
       "\n",
       "   YearsCodePro  \n",
       "7            13  \n",
       "9             4  \n",
       "10            2  \n",
       "11            7  \n",
       "12           20  \n",
       "\n",
       "[5 rows x 61 columns]"
      ]
     },
     "execution_count": 14,
     "metadata": {},
     "output_type": "execute_result"
    }
   ],
   "source": [
    "df_dev.head()"
   ]
  },
  {
   "cell_type": "code",
   "execution_count": 15,
   "metadata": {},
   "outputs": [
    {
     "data": {
      "text/plain": [
       "(26022, 61)"
      ]
     },
     "execution_count": 15,
     "metadata": {},
     "output_type": "execute_result"
    }
   ],
   "source": [
    "df_dev.shape"
   ]
  },
  {
   "cell_type": "code",
   "execution_count": 16,
   "metadata": {},
   "outputs": [],
   "source": [
    "# creating a dataframe with the others countries\n",
    "df_undev = df_salary[~df_salary.Country.isin(list_idh)]"
   ]
  },
  {
   "cell_type": "code",
   "execution_count": 17,
   "metadata": {},
   "outputs": [
    {
     "data": {
      "text/plain": [
       "(8734, 61)"
      ]
     },
     "execution_count": 17,
     "metadata": {},
     "output_type": "execute_result"
    }
   ],
   "source": [
    "df_undev.shape"
   ]
  },
  {
   "cell_type": "code",
   "execution_count": 18,
   "metadata": {},
   "outputs": [
    {
     "data": {
      "text/html": [
       "<div>\n",
       "<style scoped>\n",
       "    .dataframe tbody tr th:only-of-type {\n",
       "        vertical-align: middle;\n",
       "    }\n",
       "\n",
       "    .dataframe tbody tr th {\n",
       "        vertical-align: top;\n",
       "    }\n",
       "\n",
       "    .dataframe thead th {\n",
       "        text-align: right;\n",
       "    }\n",
       "</style>\n",
       "<table border=\"1\" class=\"dataframe\">\n",
       "  <thead>\n",
       "    <tr style=\"text-align: right;\">\n",
       "      <th></th>\n",
       "      <th>Respondent</th>\n",
       "      <th>MainBranch</th>\n",
       "      <th>Hobbyist</th>\n",
       "      <th>Age</th>\n",
       "      <th>Age1stCode</th>\n",
       "      <th>CompFreq</th>\n",
       "      <th>CompTotal</th>\n",
       "      <th>ConvertedComp</th>\n",
       "      <th>Country</th>\n",
       "      <th>CurrencyDesc</th>\n",
       "      <th>...</th>\n",
       "      <th>SurveyEase</th>\n",
       "      <th>SurveyLength</th>\n",
       "      <th>Trans</th>\n",
       "      <th>UndergradMajor</th>\n",
       "      <th>WebframeDesireNextYear</th>\n",
       "      <th>WebframeWorkedWith</th>\n",
       "      <th>WelcomeChange</th>\n",
       "      <th>WorkWeekHrs</th>\n",
       "      <th>YearsCode</th>\n",
       "      <th>YearsCodePro</th>\n",
       "    </tr>\n",
       "  </thead>\n",
       "  <tbody>\n",
       "    <tr>\n",
       "      <th>43</th>\n",
       "      <td>44</td>\n",
       "      <td>I am a developer by profession</td>\n",
       "      <td>No</td>\n",
       "      <td>32.0</td>\n",
       "      <td>21</td>\n",
       "      <td>Yearly</td>\n",
       "      <td>244000.0</td>\n",
       "      <td>55893.0</td>\n",
       "      <td>Brazil</td>\n",
       "      <td>Brazilian real</td>\n",
       "      <td>...</td>\n",
       "      <td>Neither easy nor difficult</td>\n",
       "      <td>Appropriate in length</td>\n",
       "      <td>No</td>\n",
       "      <td>Another engineering discipline (such as civil,...</td>\n",
       "      <td>NaN</td>\n",
       "      <td>NaN</td>\n",
       "      <td>Just as welcome now as I felt last year</td>\n",
       "      <td>45.0</td>\n",
       "      <td>10</td>\n",
       "      <td>6</td>\n",
       "    </tr>\n",
       "    <tr>\n",
       "      <th>58</th>\n",
       "      <td>59</td>\n",
       "      <td>I am a developer by profession</td>\n",
       "      <td>No</td>\n",
       "      <td>38.0</td>\n",
       "      <td>15</td>\n",
       "      <td>Monthly</td>\n",
       "      <td>6000.0</td>\n",
       "      <td>16488.0</td>\n",
       "      <td>Brazil</td>\n",
       "      <td>Brazilian real</td>\n",
       "      <td>...</td>\n",
       "      <td>Easy</td>\n",
       "      <td>Appropriate in length</td>\n",
       "      <td>No</td>\n",
       "      <td>Computer science, computer engineering, or sof...</td>\n",
       "      <td>Angular;ASP.NET;jQuery</td>\n",
       "      <td>ASP.NET;jQuery;Laravel;Ruby on Rails</td>\n",
       "      <td>Just as welcome now as I felt last year</td>\n",
       "      <td>40.0</td>\n",
       "      <td>24</td>\n",
       "      <td>15</td>\n",
       "    </tr>\n",
       "    <tr>\n",
       "      <th>89</th>\n",
       "      <td>91</td>\n",
       "      <td>I am a developer by profession</td>\n",
       "      <td>Yes</td>\n",
       "      <td>28.0</td>\n",
       "      <td>25</td>\n",
       "      <td>Monthly</td>\n",
       "      <td>70000000.0</td>\n",
       "      <td>61476.0</td>\n",
       "      <td>Indonesia</td>\n",
       "      <td>Indonesian rupiah</td>\n",
       "      <td>...</td>\n",
       "      <td>Easy</td>\n",
       "      <td>Too long</td>\n",
       "      <td>No</td>\n",
       "      <td>A health science (such as nursing, pharmacy, r...</td>\n",
       "      <td>Ruby on Rails</td>\n",
       "      <td>jQuery;Ruby on Rails</td>\n",
       "      <td>Not applicable - I did not use Stack Overflow ...</td>\n",
       "      <td>60.0</td>\n",
       "      <td>3</td>\n",
       "      <td>2</td>\n",
       "    </tr>\n",
       "    <tr>\n",
       "      <th>96</th>\n",
       "      <td>98</td>\n",
       "      <td>I am a developer by profession</td>\n",
       "      <td>No</td>\n",
       "      <td>29.0</td>\n",
       "      <td>15</td>\n",
       "      <td>Monthly</td>\n",
       "      <td>80000.0</td>\n",
       "      <td>41568.0</td>\n",
       "      <td>Czech Republic</td>\n",
       "      <td>Czech koruna</td>\n",
       "      <td>...</td>\n",
       "      <td>Neither easy nor difficult</td>\n",
       "      <td>Appropriate in length</td>\n",
       "      <td>No</td>\n",
       "      <td>Computer science, computer engineering, or sof...</td>\n",
       "      <td>NaN</td>\n",
       "      <td>NaN</td>\n",
       "      <td>Somewhat less welcome now than last year</td>\n",
       "      <td>40.0</td>\n",
       "      <td>10</td>\n",
       "      <td>5</td>\n",
       "    </tr>\n",
       "    <tr>\n",
       "      <th>147</th>\n",
       "      <td>149</td>\n",
       "      <td>I am a developer by profession</td>\n",
       "      <td>Yes</td>\n",
       "      <td>36.0</td>\n",
       "      <td>31</td>\n",
       "      <td>Yearly</td>\n",
       "      <td>21000000.0</td>\n",
       "      <td>293196.0</td>\n",
       "      <td>India</td>\n",
       "      <td>Indian rupee</td>\n",
       "      <td>...</td>\n",
       "      <td>Neither easy nor difficult</td>\n",
       "      <td>Appropriate in length</td>\n",
       "      <td>No</td>\n",
       "      <td>Computer science, computer engineering, or sof...</td>\n",
       "      <td>NaN</td>\n",
       "      <td>NaN</td>\n",
       "      <td>Somewhat more welcome now than last year</td>\n",
       "      <td>70.0</td>\n",
       "      <td>5</td>\n",
       "      <td>3</td>\n",
       "    </tr>\n",
       "  </tbody>\n",
       "</table>\n",
       "<p>5 rows × 61 columns</p>\n",
       "</div>"
      ],
      "text/plain": [
       "     Respondent                      MainBranch Hobbyist   Age Age1stCode  \\\n",
       "43           44  I am a developer by profession       No  32.0         21   \n",
       "58           59  I am a developer by profession       No  38.0         15   \n",
       "89           91  I am a developer by profession      Yes  28.0         25   \n",
       "96           98  I am a developer by profession       No  29.0         15   \n",
       "147         149  I am a developer by profession      Yes  36.0         31   \n",
       "\n",
       "    CompFreq   CompTotal  ConvertedComp         Country       CurrencyDesc  \\\n",
       "43    Yearly    244000.0        55893.0          Brazil     Brazilian real   \n",
       "58   Monthly      6000.0        16488.0          Brazil     Brazilian real   \n",
       "89   Monthly  70000000.0        61476.0       Indonesia  Indonesian rupiah   \n",
       "96   Monthly     80000.0        41568.0  Czech Republic       Czech koruna   \n",
       "147   Yearly  21000000.0       293196.0           India       Indian rupee   \n",
       "\n",
       "     ...                  SurveyEase           SurveyLength Trans  \\\n",
       "43   ...  Neither easy nor difficult  Appropriate in length    No   \n",
       "58   ...                        Easy  Appropriate in length    No   \n",
       "89   ...                        Easy               Too long    No   \n",
       "96   ...  Neither easy nor difficult  Appropriate in length    No   \n",
       "147  ...  Neither easy nor difficult  Appropriate in length    No   \n",
       "\n",
       "                                        UndergradMajor  \\\n",
       "43   Another engineering discipline (such as civil,...   \n",
       "58   Computer science, computer engineering, or sof...   \n",
       "89   A health science (such as nursing, pharmacy, r...   \n",
       "96   Computer science, computer engineering, or sof...   \n",
       "147  Computer science, computer engineering, or sof...   \n",
       "\n",
       "     WebframeDesireNextYear                    WebframeWorkedWith  \\\n",
       "43                      NaN                                   NaN   \n",
       "58   Angular;ASP.NET;jQuery  ASP.NET;jQuery;Laravel;Ruby on Rails   \n",
       "89            Ruby on Rails                  jQuery;Ruby on Rails   \n",
       "96                      NaN                                   NaN   \n",
       "147                     NaN                                   NaN   \n",
       "\n",
       "                                         WelcomeChange WorkWeekHrs YearsCode  \\\n",
       "43             Just as welcome now as I felt last year        45.0        10   \n",
       "58             Just as welcome now as I felt last year        40.0        24   \n",
       "89   Not applicable - I did not use Stack Overflow ...        60.0         3   \n",
       "96            Somewhat less welcome now than last year        40.0        10   \n",
       "147           Somewhat more welcome now than last year        70.0         5   \n",
       "\n",
       "    YearsCodePro  \n",
       "43             6  \n",
       "58            15  \n",
       "89             2  \n",
       "96             5  \n",
       "147            3  \n",
       "\n",
       "[5 rows x 61 columns]"
      ]
     },
     "execution_count": 18,
     "metadata": {},
     "output_type": "execute_result"
    }
   ],
   "source": [
    "df_undev.head()"
   ]
  },
  {
   "cell_type": "code",
   "execution_count": 19,
   "metadata": {},
   "outputs": [
    {
     "data": {
      "text/plain": [
       "Respondent                      0.000000\n",
       "MainBranch                      0.000000\n",
       "Hobbyist                        0.000000\n",
       "Age                             0.107678\n",
       "Age1stCode                      0.002267\n",
       "CompFreq                        0.000000\n",
       "CompTotal                       0.000000\n",
       "ConvertedComp                   0.000000\n",
       "Country                         0.000000\n",
       "CurrencyDesc                    0.000000\n",
       "CurrencySymbol                  0.000000\n",
       "DatabaseDesireNextYear          0.255745\n",
       "DatabaseWorkedWith              0.152679\n",
       "DevType                         0.012105\n",
       "EdLevel                         0.015064\n",
       "Employment                      0.000769\n",
       "Ethnicity                       0.103182\n",
       "Gender                          0.068596\n",
       "JobFactors                      0.043117\n",
       "JobSat                          0.001460\n",
       "JobSeek                         0.023864\n",
       "LanguageDesireNextYear          0.080970\n",
       "LanguageWorkedWith              0.032549\n",
       "MiscTechDesireNextYear          0.271616\n",
       "MiscTechWorkedWith              0.278572\n",
       "NEWCollabToolsDesireNextYear    0.164591\n",
       "NEWCollabToolsWorkedWith        0.066674\n",
       "NEWDevOps                       0.015179\n",
       "NEWDevOpsImpt                   0.032895\n",
       "NEWEdImpt                       0.011337\n",
       "NEWJobHunt                      0.064983\n",
       "NEWJobHuntResearch              0.085581\n",
       "NEWLearn                        0.048651\n",
       "NEWOffTopic                     0.080009\n",
       "NEWOnboardGood                  0.016025\n",
       "NEWOtherComms                   0.029091\n",
       "NEWOvertime                     0.009684\n",
       "NEWPurchaseResearch             0.429098\n",
       "NEWPurpleLink                   0.041234\n",
       "NEWSOSites                      0.027131\n",
       "NEWStuck                        0.043694\n",
       "OpSys                           0.038967\n",
       "OrgSize                         0.015410\n",
       "PlatformDesireNextYear          0.131120\n",
       "PlatformWorkedWith              0.075436\n",
       "PurchaseWhat                    0.116440\n",
       "Sexuality                       0.131466\n",
       "SOAccount                       0.032934\n",
       "SOComm                          0.034356\n",
       "SOPartFreq                      0.195412\n",
       "SOVisitFreq                     0.033433\n",
       "SurveyEase                      0.054915\n",
       "SurveyLength                    0.057451\n",
       "Trans                           0.079856\n",
       "UndergradMajor                  0.077780\n",
       "WebframeDesireNextYear          0.316578\n",
       "WebframeWorkedWith              0.257936\n",
       "WelcomeChange                   0.062755\n",
       "WorkWeekHrs                     0.026631\n",
       "YearsCode                       0.003420\n",
       "YearsCodePro                    0.003036\n",
       "dtype: float64"
      ]
     },
     "execution_count": 19,
     "metadata": {},
     "output_type": "execute_result"
    }
   ],
   "source": [
    "# Checking the NANs in columns for future use\n",
    "df_dev.isna().sum()/len(df_dev)"
   ]
  },
  {
   "cell_type": "code",
   "execution_count": 20,
   "metadata": {},
   "outputs": [
    {
     "data": {
      "text/plain": [
       "Country\n",
       "United States     8152\n",
       "United Kingdom    2588\n",
       "Germany           2311\n",
       "Canada            1345\n",
       "France            1127\n",
       "Netherlands        810\n",
       "Poland             798\n",
       "Australia          772\n",
       "Spain              761\n",
       "Italy              665\n",
       "Name: Respondent, dtype: int64"
      ]
     },
     "execution_count": 20,
     "metadata": {},
     "output_type": "execute_result"
    }
   ],
   "source": [
    "# Wich developed countries have the most developers?\n",
    "top_dev = df_dev.groupby(by = 'Country').count().sort_values(by = \"Respondent\", ascending=False).head(10).Respondent\n",
    "top_dev"
   ]
  },
  {
   "cell_type": "code",
   "execution_count": 21,
   "metadata": {},
   "outputs": [
    {
     "data": {
      "text/plain": [
       "Country\n",
       "India                 2668\n",
       "Brazil                1157\n",
       "Russian Federation     618\n",
       "Pakistan               330\n",
       "Mexico                 314\n",
       "Czech Republic         313\n",
       "Ukraine                299\n",
       "South Africa           299\n",
       "Iran                   275\n",
       "Bangladesh             184\n",
       "Name: Respondent, dtype: int64"
      ]
     },
     "execution_count": 21,
     "metadata": {},
     "output_type": "execute_result"
    }
   ],
   "source": [
    "# Wich undeveloped countries have the most developers?\n",
    "top_und = df_undev.groupby(by = 'Country').count().sort_values(by = \"Respondent\", ascending=False).head(10).Respondent\n",
    "top_und"
   ]
  },
  {
   "cell_type": "code",
   "execution_count": 22,
   "metadata": {},
   "outputs": [
    {
     "data": {
      "image/png": "[encoded data removed]",
      "text/plain": [
       "<Figure size 1152x720 with 1 Axes>"
      ]
     },
     "metadata": {},
     "output_type": "display_data"
    }
   ],
   "source": [
    "# Graphs of the developed and undeveloped countries with more coders\n",
    "sns.set_style(\"whitegrid\")\n",
    "sns.set_palette(\"Paired\", 9)\n",
    "fig = plt.gcf()\n",
    "fig.set_size_inches( 16, 10)\n",
    "plt.title(\"Developed Countries with most Coders\",fontsize= 16, fontweight='bold' )\n",
    "ax = sns.barplot(top_dev.index, top_dev.values)"
   ]
  },
  {
   "cell_type": "code",
   "execution_count": 23,
   "metadata": {},
   "outputs": [
    {
     "data": {
      "image/png": "[encoded data removed]",
      "text/plain": [
       "<Figure size 1152x720 with 1 Axes>"
      ]
     },
     "metadata": {},
     "output_type": "display_data"
    }
   ],
   "source": [
    "fig = plt.gcf()\n",
    "fig.set_size_inches( 16, 10)\n",
    "plt.title(\"Undeveloped Countries with most Coders\",fontsize= 16, fontweight='bold' )\n",
    "ax = sns.barplot(top_und.index, top_und.values)"
   ]
  },
  {
   "cell_type": "code",
   "execution_count": 24,
   "metadata": {},
   "outputs": [
    {
     "data": {
      "text/html": [
       "<div>\n",
       "<style scoped>\n",
       "    .dataframe tbody tr th:only-of-type {\n",
       "        vertical-align: middle;\n",
       "    }\n",
       "\n",
       "    .dataframe tbody tr th {\n",
       "        vertical-align: top;\n",
       "    }\n",
       "\n",
       "    .dataframe thead th {\n",
       "        text-align: right;\n",
       "    }\n",
       "</style>\n",
       "<table border=\"1\" class=\"dataframe\">\n",
       "  <thead>\n",
       "    <tr style=\"text-align: right;\">\n",
       "      <th></th>\n",
       "      <th>count</th>\n",
       "      <th>mean</th>\n",
       "      <th>std</th>\n",
       "      <th>min</th>\n",
       "      <th>25%</th>\n",
       "      <th>50%</th>\n",
       "      <th>75%</th>\n",
       "      <th>max</th>\n",
       "    </tr>\n",
       "  </thead>\n",
       "  <tbody>\n",
       "    <tr>\n",
       "      <th>Developed</th>\n",
       "      <td>26022</td>\n",
       "      <td>128243</td>\n",
       "      <td>252609</td>\n",
       "      <td>0</td>\n",
       "      <td>42500</td>\n",
       "      <td>68102</td>\n",
       "      <td>110000</td>\n",
       "      <td>2000000</td>\n",
       "    </tr>\n",
       "    <tr>\n",
       "      <th>Undeveloped</th>\n",
       "      <td>8734</td>\n",
       "      <td>30796</td>\n",
       "      <td>87296</td>\n",
       "      <td>0</td>\n",
       "      <td>6981</td>\n",
       "      <td>14660</td>\n",
       "      <td>29251</td>\n",
       "      <td>2000000</td>\n",
       "    </tr>\n",
       "  </tbody>\n",
       "</table>\n",
       "</div>"
      ],
      "text/plain": [
       "             count    mean     std  min    25%    50%     75%      max\n",
       "Developed    26022  128243  252609    0  42500  68102  110000  2000000\n",
       "Undeveloped   8734   30796   87296    0   6981  14660   29251  2000000"
      ]
     },
     "execution_count": 24,
     "metadata": {},
     "output_type": "execute_result"
    }
   ],
   "source": [
    "# Checking the basic statistics for the converted salary for both dataframes\n",
    "pd.DataFrame(data= [df_dev.ConvertedComp.describe(), df_undev.ConvertedComp.describe()], index=['Developed', 'Undeveloped']).astype(int)"
   ]
  },
  {
   "cell_type": "code",
   "execution_count": 25,
   "metadata": {},
   "outputs": [
    {
     "data": {
      "text/plain": [
       "7          developed\n",
       "9          developed\n",
       "10         developed\n",
       "11         developed\n",
       "12         developed\n",
       "            ...     \n",
       "64142    undeveloped\n",
       "64148    undeveloped\n",
       "64152      developed\n",
       "64153      developed\n",
       "64154      developed\n",
       "Name: HDI, Length: 34756, dtype: object"
      ]
     },
     "execution_count": 25,
     "metadata": {},
     "output_type": "execute_result"
    }
   ],
   "source": [
    "#Creating a new column in the salary df to use in the boxplot\n",
    "df_salary[\"HDI\"] = np.where(df_salary['Country'].isin(list_idh), \"developed\", 'undeveloped')\n",
    "df_salary.HDI"
   ]
  },
  {
   "cell_type": "code",
   "execution_count": 26,
   "metadata": {},
   "outputs": [
    {
     "data": {
      "text/plain": [
       "Text(0, 0.5, 'Salary')"
      ]
     },
     "execution_count": 26,
     "metadata": {},
     "output_type": "execute_result"
    },
    {
     "data": {
      "image/png": "[encoded data removed]",
      "text/plain": [
       "<Figure size 1152x720 with 1 Axes>"
      ]
     },
     "metadata": {},
     "output_type": "display_data"
    }
   ],
   "source": [
    "# creating the boxplot\n",
    "fig = plt.gcf()\n",
    "fig.set_size_inches( 16, 10)\n",
    "\n",
    "plt.title(\"Boxplot of the salary distribution in developed and undeveloped countries\",fontsize= 16, fontweight='bold' )\n",
    "ax = sns.boxplot(y= df_salary[\"ConvertedComp\"],showfliers = False, x=df_salary.HDI)\n",
    "\n",
    "ax.set_xlabel(\"Type of Country\",fontsize=12)\n",
    "ax.set_ylabel(\"Salary\",fontsize=12)"
   ]
  },
  {
   "cell_type": "code",
   "execution_count": 27,
   "metadata": {},
   "outputs": [
    {
     "data": {
      "text/plain": [
       "Text(0, 0.5, 'Salary (US$)')"
      ]
     },
     "execution_count": 27,
     "metadata": {},
     "output_type": "execute_result"
    },
    {
     "data": {
      "image/png": "[encoded data removed]",
      "text/plain": [
       "<Figure size 1152x720 with 1 Axes>"
      ]
     },
     "metadata": {},
     "output_type": "display_data"
    }
   ],
   "source": [
    "# Analysing the boxplots individually\n",
    "fig = plt.gcf()\n",
    "fig.set_size_inches( 16, 10)\n",
    "\n",
    "plt.title(\"Boxplot of the salary distribution in developed countries\",fontsize= 16, fontweight='bold' )\n",
    "ax = sns.boxplot(y= df_dev[\"ConvertedComp\"],showfliers = False)\n",
    "ax.set_ylabel(\"Salary (US$)\",fontsize=12)"
   ]
  },
  {
   "cell_type": "code",
   "execution_count": 28,
   "metadata": {},
   "outputs": [
    {
     "data": {
      "text/plain": [
       "Text(0, 0.5, 'Salary (US$)')"
      ]
     },
     "execution_count": 28,
     "metadata": {},
     "output_type": "execute_result"
    },
    {
     "data": {
      "image/png": "[encoded data removed]",
      "text/plain": [
       "<Figure size 1152x720 with 1 Axes>"
      ]
     },
     "metadata": {},
     "output_type": "display_data"
    }
   ],
   "source": [
    "fig = plt.gcf()\n",
    "fig.set_size_inches( 16, 10)\n",
    "\n",
    "plt.title(\"Boxplot of the salary distribution  undeveloped countries\",fontsize= 16, fontweight='bold' )\n",
    "ax = sns.boxplot(y= df_undev[\"ConvertedComp\"],showfliers = False)\n",
    "ax.set_ylabel(\"Salary (US$)\",fontsize=12)"
   ]
  },
  {
   "cell_type": "code",
   "execution_count": 29,
   "metadata": {},
   "outputs": [],
   "source": [
    "# Creating a dictionary to rename the education column to fit in the graphs\n",
    "edu_dict = {'Bachelor’s degree (B.A., B.S., B.Eng., etc.)': \"Bachelor's\",\n",
    "       'Master’s degree (M.A., M.S., M.Eng., MBA, etc.)': \"Master’s\",\n",
    "       'Some college/university study without earning a degree': \"College/university\",\n",
    "       'Secondary school (e.g. American high school, Git_Hub_2020_Survey.ipynberman Realschule or Gymnasium, etc.)' : \"Secondary school\",\n",
    "       'Other doctoral degree (Ph.D., Ed.D., etc.)': \"Other doctoral\",\n",
    "       'Associate degree (A.A., A.S., etc.)': \"Associate degree\",\n",
    "       'Professional degree (JD, MD, etc.)': \"Professional degree\",\n",
    "       'Primary/elementary school': 'Primary',\n",
    "       'I never completed any formal education': \"None\"}"
   ]
  },
  {
   "cell_type": "code",
   "execution_count": 30,
   "metadata": {
    "scrolled": true
   },
   "outputs": [],
   "source": [
    "# Renaming both DFs\n",
    "df_dev['EdLevel'].replace(edu_dict, inplace=True)\n",
    "df_undev['EdLevel'].replace(edu_dict, inplace=True)"
   ]
  },
  {
   "cell_type": "code",
   "execution_count": 31,
   "metadata": {},
   "outputs": [
    {
     "data": {
      "image/png": "[encoded data removed]",
      "text/plain": [
       "<Figure size 1152x720 with 1 Axes>"
      ]
     },
     "metadata": {},
     "output_type": "display_data"
    }
   ],
   "source": [
    "# Creating the Graph of the distribution of education in developed countries\n",
    "ed_level_dev = df_dev.groupby(by = 'EdLevel').count().sort_values(by = \"Respondent\", ascending=False).Respondent\n",
    "fig = plt.gcf()\n",
    "fig.set_size_inches( 16, 10)\n",
    "plt.title(\"Distribution of education level in Developed Countries\",fontsize= 16, fontweight='bold' )\n",
    "ax = sns.barplot(ed_level_dev.index, ed_level_dev.values)"
   ]
  },
  {
   "cell_type": "code",
   "execution_count": 32,
   "metadata": {},
   "outputs": [
    {
     "data": {
      "image/png": "[encoded data removed]",
      "text/plain": [
       "<Figure size 1152x720 with 1 Axes>"
      ]
     },
     "metadata": {},
     "output_type": "display_data"
    }
   ],
   "source": [
    "# Creating the Graph of the distribution of education in undeveloped countries\n",
    "ed_level_und = df_undev.groupby(by = 'EdLevel').count().sort_values(by = \"Respondent\", ascending=False).Respondent\n",
    "fig = plt.gcf()\n",
    "fig.set_size_inches( 16, 10)\n",
    "plt.title(\"Distribution of education level in Undeveloped Countries\",fontsize= 16, fontweight='bold' )\n",
    "ax = sns.barplot(ed_level_und.index, ed_level_und.values)"
   ]
  },
  {
   "cell_type": "code",
   "execution_count": 33,
   "metadata": {},
   "outputs": [
    {
     "data": {
      "text/html": [
       "<style  type=\"text/css\" >\n",
       "#T_5f1d5849_5b29_11eb_87e5_9cb6d016a67erow0_col2{\n",
       "            width:  10em;\n",
       "             height:  80%;\n",
       "            background:  linear-gradient(90deg,#d65f5f 69.6%, transparent 69.6%);\n",
       "        }#T_5f1d5849_5b29_11eb_87e5_9cb6d016a67erow1_col2{\n",
       "            width:  10em;\n",
       "             height:  80%;\n",
       "            background:  linear-gradient(90deg, transparent 69.6%, #5fba7d 69.6%, #5fba7d 100.0%, transparent 100.0%);\n",
       "        }#T_5f1d5849_5b29_11eb_87e5_9cb6d016a67erow2_col2{\n",
       "            width:  10em;\n",
       "             height:  80%;\n",
       "            background:  linear-gradient(90deg, transparent 69.6%, #5fba7d 69.6%, #5fba7d 84.0%, transparent 84.0%);\n",
       "        }#T_5f1d5849_5b29_11eb_87e5_9cb6d016a67erow3_col2{\n",
       "            width:  10em;\n",
       "             height:  80%;\n",
       "            background:  linear-gradient(90deg, transparent 69.6%, #5fba7d 69.6%, #5fba7d 77.8%, transparent 77.8%);\n",
       "        }#T_5f1d5849_5b29_11eb_87e5_9cb6d016a67erow4_col2{\n",
       "            width:  10em;\n",
       "             height:  80%;\n",
       "            background:  linear-gradient(90deg, transparent 69.6%, #5fba7d 69.6%, #5fba7d 83.5%, transparent 83.5%);\n",
       "        }#T_5f1d5849_5b29_11eb_87e5_9cb6d016a67erow5_col2{\n",
       "            width:  10em;\n",
       "             height:  80%;\n",
       "            background:  linear-gradient(90deg, transparent 69.6%, #5fba7d 69.6%, #5fba7d 78.3%, transparent 78.3%);\n",
       "        }#T_5f1d5849_5b29_11eb_87e5_9cb6d016a67erow6_col2{\n",
       "            width:  10em;\n",
       "             height:  80%;\n",
       "            background:  linear-gradient(90deg, transparent 64.8%, #d65f5f 64.8%, #d65f5f 69.6%, transparent 69.6%);\n",
       "        }#T_5f1d5849_5b29_11eb_87e5_9cb6d016a67erow7_col2{\n",
       "            width:  10em;\n",
       "             height:  80%;\n",
       "            background:  linear-gradient(90deg, transparent 69.4%, #d65f5f 69.4%, #d65f5f 69.6%, transparent 69.6%);\n",
       "        }#T_5f1d5849_5b29_11eb_87e5_9cb6d016a67erow8_col2{\n",
       "            width:  10em;\n",
       "             height:  80%;\n",
       "            background:  linear-gradient(90deg, transparent 68.4%, #d65f5f 68.4%, #d65f5f 69.6%, transparent 69.6%);\n",
       "        }</style><table id=\"T_5f1d5849_5b29_11eb_87e5_9cb6d016a67e\" ><thead>    <tr>        <th class=\"blank level0\" ></th>        <th class=\"col_heading level0 col0\" >Developed</th>        <th class=\"col_heading level0 col1\" >Undeveloped</th>        <th class=\"col_heading level0 col2\" >Diff</th>    </tr></thead><tbody>\n",
       "                <tr>\n",
       "                        <th id=\"T_5f1d5849_5b29_11eb_87e5_9cb6d016a67elevel0_row0\" class=\"row_heading level0 row0\" >Bachelor's</th>\n",
       "                        <td id=\"T_5f1d5849_5b29_11eb_87e5_9cb6d016a67erow0_col0\" class=\"data row0 col0\" >0.460398</td>\n",
       "                        <td id=\"T_5f1d5849_5b29_11eb_87e5_9cb6d016a67erow0_col1\" class=\"data row0 col1\" >0.592896</td>\n",
       "                        <td id=\"T_5f1d5849_5b29_11eb_87e5_9cb6d016a67erow0_col2\" class=\"data row0 col2\" >-0.132498</td>\n",
       "            </tr>\n",
       "            <tr>\n",
       "                        <th id=\"T_5f1d5849_5b29_11eb_87e5_9cb6d016a67elevel0_row1\" class=\"row_heading level0 row1\" >Master’s</th>\n",
       "                        <td id=\"T_5f1d5849_5b29_11eb_87e5_9cb6d016a67erow1_col0\" class=\"data row1 col0\" >0.268045</td>\n",
       "                        <td id=\"T_5f1d5849_5b29_11eb_87e5_9cb6d016a67erow1_col1\" class=\"data row1 col1\" >0.210096</td>\n",
       "                        <td id=\"T_5f1d5849_5b29_11eb_87e5_9cb6d016a67erow1_col2\" class=\"data row1 col2\" >0.057949</td>\n",
       "            </tr>\n",
       "            <tr>\n",
       "                        <th id=\"T_5f1d5849_5b29_11eb_87e5_9cb6d016a67elevel0_row2\" class=\"row_heading level0 row2\" >College/university</th>\n",
       "                        <td id=\"T_5f1d5849_5b29_11eb_87e5_9cb6d016a67erow2_col0\" class=\"data row2 col0\" >0.126414</td>\n",
       "                        <td id=\"T_5f1d5849_5b29_11eb_87e5_9cb6d016a67erow2_col1\" class=\"data row2 col1\" >0.098855</td>\n",
       "                        <td id=\"T_5f1d5849_5b29_11eb_87e5_9cb6d016a67erow2_col2\" class=\"data row2 col2\" >0.027559</td>\n",
       "            </tr>\n",
       "            <tr>\n",
       "                        <th id=\"T_5f1d5849_5b29_11eb_87e5_9cb6d016a67elevel0_row3\" class=\"row_heading level0 row3\" >Secondary school (e.g. American high school, German Realschule or Gymnasium, etc.)</th>\n",
       "                        <td id=\"T_5f1d5849_5b29_11eb_87e5_9cb6d016a67erow3_col0\" class=\"data row3 col0\" >0.046820</td>\n",
       "                        <td id=\"T_5f1d5849_5b29_11eb_87e5_9cb6d016a67erow3_col1\" class=\"data row3 col1\" >0.031082</td>\n",
       "                        <td id=\"T_5f1d5849_5b29_11eb_87e5_9cb6d016a67erow3_col2\" class=\"data row3 col2\" >0.015738</td>\n",
       "            </tr>\n",
       "            <tr>\n",
       "                        <th id=\"T_5f1d5849_5b29_11eb_87e5_9cb6d016a67elevel0_row4\" class=\"row_heading level0 row4\" >Other doctoral</th>\n",
       "                        <td id=\"T_5f1d5849_5b29_11eb_87e5_9cb6d016a67erow4_col0\" class=\"data row4 col0\" >0.040031</td>\n",
       "                        <td id=\"T_5f1d5849_5b29_11eb_87e5_9cb6d016a67erow4_col1\" class=\"data row4 col1\" >0.013555</td>\n",
       "                        <td id=\"T_5f1d5849_5b29_11eb_87e5_9cb6d016a67erow4_col2\" class=\"data row4 col2\" >0.026477</td>\n",
       "            </tr>\n",
       "            <tr>\n",
       "                        <th id=\"T_5f1d5849_5b29_11eb_87e5_9cb6d016a67elevel0_row5\" class=\"row_heading level0 row5\" >Associate degree</th>\n",
       "                        <td id=\"T_5f1d5849_5b29_11eb_87e5_9cb6d016a67erow5_col0\" class=\"data row5 col0\" >0.038314</td>\n",
       "                        <td id=\"T_5f1d5849_5b29_11eb_87e5_9cb6d016a67erow5_col1\" class=\"data row5 col1\" >0.021734</td>\n",
       "                        <td id=\"T_5f1d5849_5b29_11eb_87e5_9cb6d016a67erow5_col2\" class=\"data row5 col2\" >0.016580</td>\n",
       "            </tr>\n",
       "            <tr>\n",
       "                        <th id=\"T_5f1d5849_5b29_11eb_87e5_9cb6d016a67elevel0_row6\" class=\"row_heading level0 row6\" >Professional degree</th>\n",
       "                        <td id=\"T_5f1d5849_5b29_11eb_87e5_9cb6d016a67erow6_col0\" class=\"data row6 col0\" >0.011666</td>\n",
       "                        <td id=\"T_5f1d5849_5b29_11eb_87e5_9cb6d016a67erow6_col1\" class=\"data row6 col1\" >0.020799</td>\n",
       "                        <td id=\"T_5f1d5849_5b29_11eb_87e5_9cb6d016a67erow6_col2\" class=\"data row6 col2\" >-0.009133</td>\n",
       "            </tr>\n",
       "            <tr>\n",
       "                        <th id=\"T_5f1d5849_5b29_11eb_87e5_9cb6d016a67elevel0_row7\" class=\"row_heading level0 row7\" >Primary</th>\n",
       "                        <td id=\"T_5f1d5849_5b29_11eb_87e5_9cb6d016a67erow7_col0\" class=\"data row7 col0\" >0.004370</td>\n",
       "                        <td id=\"T_5f1d5849_5b29_11eb_87e5_9cb6d016a67erow7_col1\" class=\"data row7 col1\" >0.004791</td>\n",
       "                        <td id=\"T_5f1d5849_5b29_11eb_87e5_9cb6d016a67erow7_col2\" class=\"data row7 col2\" >-0.000421</td>\n",
       "            </tr>\n",
       "            <tr>\n",
       "                        <th id=\"T_5f1d5849_5b29_11eb_87e5_9cb6d016a67elevel0_row8\" class=\"row_heading level0 row8\" >None</th>\n",
       "                        <td id=\"T_5f1d5849_5b29_11eb_87e5_9cb6d016a67erow8_col0\" class=\"data row8 col0\" >0.003941</td>\n",
       "                        <td id=\"T_5f1d5849_5b29_11eb_87e5_9cb6d016a67erow8_col1\" class=\"data row8 col1\" >0.006193</td>\n",
       "                        <td id=\"T_5f1d5849_5b29_11eb_87e5_9cb6d016a67erow8_col2\" class=\"data row8 col2\" >-0.002252</td>\n",
       "            </tr>\n",
       "    </tbody></table>"
      ],
      "text/plain": [
       "<pandas.io.formats.style.Styler at 0x1c049df94c0>"
      ]
     },
     "execution_count": 33,
     "metadata": {},
     "output_type": "execute_result"
    }
   ],
   "source": [
    "# Dataframe with the normalized education distribution for both class of countries and the difference between Developed and Undeloveped countries\n",
    "ed = pd.DataFrame(data= [df_dev.EdLevel.value_counts(normalize=True), df_undev.EdLevel.value_counts(normalize=True)], index=['Developed', 'Undeveloped']).transpose()\n",
    "ed[\"Diff\"] = ed.Developed - ed.Undeveloped\n",
    "ed = ed.style.bar(subset=['Diff'], align='mid', color=['#d65f5f', '#5fba7d'])\n",
    "ed"
   ]
  },
  {
   "cell_type": "code",
   "execution_count": 34,
   "metadata": {
    "scrolled": false
   },
   "outputs": [
    {
     "data": {
      "image/png": "[encoded data removed]",
      "text/plain": [
       "<Figure size 1152x720 with 1 Axes>"
      ]
     },
     "metadata": {},
     "output_type": "display_data"
    }
   ],
   "source": [
    "#Using the language extractor to create a graph of the languages used in the developed countries\n",
    "df_dev = df_dev.dropna(subset= [\"LanguageWorkedWith\"],axis = 0)\n",
    "lang_dev = language_extractor(df_dev,\"LanguageWorkedWith\",';')\n",
    "x= list(lang_dev)[:10]\n",
    "top = list(lang_dev.values())[:10]\n",
    "y = [n / sum(list(lang_dev.values())) for n in top]\n",
    "fig = plt.gcf()\n",
    "fig.set_size_inches( 16, 10)\n",
    "plt.title(\"Distribution of used languages in Developed Countries\",fontsize= 16, fontweight='bold' )\n",
    "ax = sns.barplot(x,y)"
   ]
  },
  {
   "cell_type": "code",
   "execution_count": 35,
   "metadata": {},
   "outputs": [
    {
     "data": {
      "image/png": "[encoded data removed]",
      "text/plain": [
       "<Figure size 1152x720 with 1 Axes>"
      ]
     },
     "metadata": {},
     "output_type": "display_data"
    }
   ],
   "source": [
    "#Using the language extractor to create a graph of the languages used in the undeveloped countries\n",
    "df_undev = df_undev.dropna(subset= [\"LanguageWorkedWith\"],axis = 0)\n",
    "lang_und = language_extractor(df_undev,\"LanguageWorkedWith\",';')\n",
    "x= list(lang_und)[:10]\n",
    "top = list(lang_und.values())[:10]\n",
    "y = [n / sum(list(lang_und.values())) for n in top]\n",
    "fig = plt.gcf()\n",
    "fig.set_size_inches( 16, 10)\n",
    "plt.title(\"Distribution of used languages in Undeveloped Countries\",fontsize= 16, fontweight='bold' )\n",
    "ax = sns.barplot(x,y)"
   ]
  },
  {
   "cell_type": "code",
   "execution_count": 36,
   "metadata": {},
   "outputs": [
    {
     "data": {
      "text/html": [
       "<style  type=\"text/css\" >\n",
       "#T_5f84fc26_5b29_11eb_a4b8_9cb6d016a67erow0_col2{\n",
       "            width:  10em;\n",
       "             height:  80%;\n",
       "            background:  linear-gradient(90deg, transparent 19.8%, #d65f5f 19.8%, #d65f5f 38.5%, transparent 38.5%);\n",
       "        }#T_5f84fc26_5b29_11eb_a4b8_9cb6d016a67erow1_col2{\n",
       "            width:  10em;\n",
       "             height:  80%;\n",
       "            background:  linear-gradient(90deg, transparent 18.9%, #d65f5f 18.9%, #d65f5f 38.5%, transparent 38.5%);\n",
       "        }#T_5f84fc26_5b29_11eb_a4b8_9cb6d016a67erow2_col2{\n",
       "            width:  10em;\n",
       "             height:  80%;\n",
       "            background:  linear-gradient(90deg, transparent 30.1%, #d65f5f 30.1%, #d65f5f 38.5%, transparent 38.5%);\n",
       "        }#T_5f84fc26_5b29_11eb_a4b8_9cb6d016a67erow3_col2{\n",
       "            width:  10em;\n",
       "             height:  80%;\n",
       "            background:  linear-gradient(90deg, transparent 38.5%, #5fba7d 38.5%, #5fba7d 59.5%, transparent 59.5%);\n",
       "        }#T_5f84fc26_5b29_11eb_a4b8_9cb6d016a67erow4_col2{\n",
       "            width:  10em;\n",
       "             height:  80%;\n",
       "            background:  linear-gradient(90deg, transparent 38.5%, #5fba7d 38.5%, #5fba7d 100.0%, transparent 100.0%);\n",
       "        }#T_5f84fc26_5b29_11eb_a4b8_9cb6d016a67erow5_col2{\n",
       "            width:  10em;\n",
       "             height:  80%;\n",
       "            background:  linear-gradient(90deg, transparent 11.2%, #d65f5f 11.2%, #d65f5f 38.5%, transparent 38.5%);\n",
       "        }#T_5f84fc26_5b29_11eb_a4b8_9cb6d016a67erow6_col2{\n",
       "            width:  10em;\n",
       "             height:  80%;\n",
       "            background:  linear-gradient(90deg, transparent 38.5%, #5fba7d 38.5%, #5fba7d 53.3%, transparent 53.3%);\n",
       "        }#T_5f84fc26_5b29_11eb_a4b8_9cb6d016a67erow7_col2{\n",
       "            width:  10em;\n",
       "             height:  80%;\n",
       "            background:  linear-gradient(90deg, transparent 38.5%, #5fba7d 38.5%, #5fba7d 41.4%, transparent 41.4%);\n",
       "        }#T_5f84fc26_5b29_11eb_a4b8_9cb6d016a67erow8_col2{\n",
       "            width:  10em;\n",
       "             height:  80%;\n",
       "            background:  linear-gradient(90deg,#d65f5f 38.5%, transparent 38.5%);\n",
       "        }#T_5f84fc26_5b29_11eb_a4b8_9cb6d016a67erow9_col2{\n",
       "            width:  10em;\n",
       "             height:  80%;\n",
       "            background:  linear-gradient(90deg, transparent 35.9%, #d65f5f 35.9%, #d65f5f 38.5%, transparent 38.5%);\n",
       "        }#T_5f84fc26_5b29_11eb_a4b8_9cb6d016a67erow10_col2{\n",
       "            width:  10em;\n",
       "             height:  80%;\n",
       "            background:  linear-gradient(90deg, transparent 25.4%, #d65f5f 25.4%, #d65f5f 38.5%, transparent 38.5%);\n",
       "        }#T_5f84fc26_5b29_11eb_a4b8_9cb6d016a67erow11_col2{\n",
       "            width:  10em;\n",
       "             height:  80%;\n",
       "            background:  linear-gradient(90deg, transparent 38.5%, #5fba7d 38.5%, #5fba7d 46.8%, transparent 46.8%);\n",
       "        }#T_5f84fc26_5b29_11eb_a4b8_9cb6d016a67erow12_col2{\n",
       "            width:  10em;\n",
       "             height:  80%;\n",
       "            background:  linear-gradient(90deg, transparent 38.5%, #5fba7d 38.5%, #5fba7d 45.8%, transparent 45.8%);\n",
       "        }#T_5f84fc26_5b29_11eb_a4b8_9cb6d016a67erow13_col2{\n",
       "            width:  10em;\n",
       "             height:  80%;\n",
       "            background:  linear-gradient(90deg, transparent 32.9%, #d65f5f 32.9%, #d65f5f 38.5%, transparent 38.5%);\n",
       "        }#T_5f84fc26_5b29_11eb_a4b8_9cb6d016a67erow14_col2{\n",
       "            width:  10em;\n",
       "             height:  80%;\n",
       "            background:  linear-gradient(90deg, transparent 38.5%, #5fba7d 38.5%, #5fba7d 39.4%, transparent 39.4%);\n",
       "        }#T_5f84fc26_5b29_11eb_a4b8_9cb6d016a67erow15_col2{\n",
       "            width:  10em;\n",
       "             height:  80%;\n",
       "            background:  linear-gradient(90deg, transparent 38.5%, #5fba7d 38.5%, #5fba7d 50.8%, transparent 50.8%);\n",
       "        }#T_5f84fc26_5b29_11eb_a4b8_9cb6d016a67erow16_col2{\n",
       "            width:  10em;\n",
       "             height:  80%;\n",
       "            background:  linear-gradient(90deg, transparent 35.2%, #d65f5f 35.2%, #d65f5f 38.5%, transparent 38.5%);\n",
       "        }#T_5f84fc26_5b29_11eb_a4b8_9cb6d016a67erow17_col2,#T_5f84fc26_5b29_11eb_a4b8_9cb6d016a67erow23_col2{\n",
       "            width:  10em;\n",
       "             height:  80%;\n",
       "            background:  linear-gradient(90deg, transparent 38.5%, #5fba7d 38.5%, #5fba7d 42.3%, transparent 42.3%);\n",
       "        }#T_5f84fc26_5b29_11eb_a4b8_9cb6d016a67erow18_col2{\n",
       "            width:  10em;\n",
       "             height:  80%;\n",
       "            background:  linear-gradient(90deg, transparent 38.5%, #5fba7d 38.5%, #5fba7d 43.4%, transparent 43.4%);\n",
       "        }#T_5f84fc26_5b29_11eb_a4b8_9cb6d016a67erow19_col2{\n",
       "            width:  10em;\n",
       "             height:  80%;\n",
       "            background:  linear-gradient(90deg, transparent 38.5%, #5fba7d 38.5%, #5fba7d 40.8%, transparent 40.8%);\n",
       "        }#T_5f84fc26_5b29_11eb_a4b8_9cb6d016a67erow20_col2{\n",
       "            width:  10em;\n",
       "             height:  80%;\n",
       "            background:  linear-gradient(90deg, transparent 36.6%, #d65f5f 36.6%, #d65f5f 38.5%, transparent 38.5%);\n",
       "        }#T_5f84fc26_5b29_11eb_a4b8_9cb6d016a67erow21_col2{\n",
       "            width:  10em;\n",
       "             height:  80%;\n",
       "            background:  linear-gradient(90deg, transparent 38.5%, #5fba7d 38.5%, #5fba7d 44.6%, transparent 44.6%);\n",
       "        }#T_5f84fc26_5b29_11eb_a4b8_9cb6d016a67erow22_col2{\n",
       "            width:  10em;\n",
       "             height:  80%;\n",
       "            background:  linear-gradient(90deg, transparent 26.8%, #d65f5f 26.8%, #d65f5f 38.5%, transparent 38.5%);\n",
       "        }#T_5f84fc26_5b29_11eb_a4b8_9cb6d016a67erow24_col2{\n",
       "            width:  10em;\n",
       "             height:  80%;\n",
       "            background:  linear-gradient(90deg, transparent 38.5%, #5fba7d 38.5%, #5fba7d 39.6%, transparent 39.6%);\n",
       "        }</style><table id=\"T_5f84fc26_5b29_11eb_a4b8_9cb6d016a67e\" ><thead>    <tr>        <th class=\"blank level0\" ></th>        <th class=\"col_heading level0 col0\" >Developed</th>        <th class=\"col_heading level0 col1\" >Undeveloped</th>        <th class=\"col_heading level0 col2\" >Diff</th>    </tr></thead><tbody>\n",
       "                <tr>\n",
       "                        <th id=\"T_5f84fc26_5b29_11eb_a4b8_9cb6d016a67elevel0_row0\" class=\"row_heading level0 row0\" >JavaScript</th>\n",
       "                        <td id=\"T_5f84fc26_5b29_11eb_a4b8_9cb6d016a67erow0_col0\" class=\"data row0 col0\" >0.139017</td>\n",
       "                        <td id=\"T_5f84fc26_5b29_11eb_a4b8_9cb6d016a67erow0_col1\" class=\"data row0 col1\" >0.149105</td>\n",
       "                        <td id=\"T_5f84fc26_5b29_11eb_a4b8_9cb6d016a67erow0_col2\" class=\"data row0 col2\" >-0.010088</td>\n",
       "            </tr>\n",
       "            <tr>\n",
       "                        <th id=\"T_5f84fc26_5b29_11eb_a4b8_9cb6d016a67elevel0_row1\" class=\"row_heading level0 row1\" >HTML/CSS</th>\n",
       "                        <td id=\"T_5f84fc26_5b29_11eb_a4b8_9cb6d016a67erow1_col0\" class=\"data row1 col0\" >0.122662</td>\n",
       "                        <td id=\"T_5f84fc26_5b29_11eb_a4b8_9cb6d016a67erow1_col1\" class=\"data row1 col1\" >0.133238</td>\n",
       "                        <td id=\"T_5f84fc26_5b29_11eb_a4b8_9cb6d016a67erow1_col2\" class=\"data row1 col2\" >-0.010576</td>\n",
       "            </tr>\n",
       "            <tr>\n",
       "                        <th id=\"T_5f84fc26_5b29_11eb_a4b8_9cb6d016a67elevel0_row2\" class=\"row_heading level0 row2\" >SQL</th>\n",
       "                        <td id=\"T_5f84fc26_5b29_11eb_a4b8_9cb6d016a67erow2_col0\" class=\"data row2 col0\" >0.114712</td>\n",
       "                        <td id=\"T_5f84fc26_5b29_11eb_a4b8_9cb6d016a67erow2_col1\" class=\"data row2 col1\" >0.119279</td>\n",
       "                        <td id=\"T_5f84fc26_5b29_11eb_a4b8_9cb6d016a67erow2_col2\" class=\"data row2 col2\" >-0.004567</td>\n",
       "            </tr>\n",
       "            <tr>\n",
       "                        <th id=\"T_5f84fc26_5b29_11eb_a4b8_9cb6d016a67elevel0_row3\" class=\"row_heading level0 row3\" >Python</th>\n",
       "                        <td id=\"T_5f84fc26_5b29_11eb_a4b8_9cb6d016a67erow3_col0\" class=\"data row3 col0\" >0.086115</td>\n",
       "                        <td id=\"T_5f84fc26_5b29_11eb_a4b8_9cb6d016a67erow3_col1\" class=\"data row3 col1\" >0.074791</td>\n",
       "                        <td id=\"T_5f84fc26_5b29_11eb_a4b8_9cb6d016a67erow3_col2\" class=\"data row3 col2\" >0.011324</td>\n",
       "            </tr>\n",
       "            <tr>\n",
       "                        <th id=\"T_5f84fc26_5b29_11eb_a4b8_9cb6d016a67elevel0_row4\" class=\"row_heading level0 row4\" >Bash/Shell/PowerShell</th>\n",
       "                        <td id=\"T_5f84fc26_5b29_11eb_a4b8_9cb6d016a67erow4_col0\" class=\"data row4 col0\" >0.082844</td>\n",
       "                        <td id=\"T_5f84fc26_5b29_11eb_a4b8_9cb6d016a67erow4_col1\" class=\"data row4 col1\" >0.049660</td>\n",
       "                        <td id=\"T_5f84fc26_5b29_11eb_a4b8_9cb6d016a67erow4_col2\" class=\"data row4 col2\" >0.033184</td>\n",
       "            </tr>\n",
       "            <tr>\n",
       "                        <th id=\"T_5f84fc26_5b29_11eb_a4b8_9cb6d016a67elevel0_row5\" class=\"row_heading level0 row5\" >Java</th>\n",
       "                        <td id=\"T_5f84fc26_5b29_11eb_a4b8_9cb6d016a67erow5_col0\" class=\"data row5 col0\" >0.070609</td>\n",
       "                        <td id=\"T_5f84fc26_5b29_11eb_a4b8_9cb6d016a67erow5_col1\" class=\"data row5 col1\" >0.085361</td>\n",
       "                        <td id=\"T_5f84fc26_5b29_11eb_a4b8_9cb6d016a67erow5_col2\" class=\"data row5 col2\" >-0.014752</td>\n",
       "            </tr>\n",
       "            <tr>\n",
       "                        <th id=\"T_5f84fc26_5b29_11eb_a4b8_9cb6d016a67elevel0_row6\" class=\"row_heading level0 row6\" >C#</th>\n",
       "                        <td id=\"T_5f84fc26_5b29_11eb_a4b8_9cb6d016a67erow6_col0\" class=\"data row6 col0\" >0.068392</td>\n",
       "                        <td id=\"T_5f84fc26_5b29_11eb_a4b8_9cb6d016a67erow6_col1\" class=\"data row6 col1\" >0.060405</td>\n",
       "                        <td id=\"T_5f84fc26_5b29_11eb_a4b8_9cb6d016a67erow6_col2\" class=\"data row6 col2\" >0.007987</td>\n",
       "            </tr>\n",
       "            <tr>\n",
       "                        <th id=\"T_5f84fc26_5b29_11eb_a4b8_9cb6d016a67elevel0_row7\" class=\"row_heading level0 row7\" >TypeScript</th>\n",
       "                        <td id=\"T_5f84fc26_5b29_11eb_a4b8_9cb6d016a67erow7_col0\" class=\"data row7 col0\" >0.060026</td>\n",
       "                        <td id=\"T_5f84fc26_5b29_11eb_a4b8_9cb6d016a67erow7_col1\" class=\"data row7 col1\" >0.058447</td>\n",
       "                        <td id=\"T_5f84fc26_5b29_11eb_a4b8_9cb6d016a67erow7_col2\" class=\"data row7 col2\" >0.001579</td>\n",
       "            </tr>\n",
       "            <tr>\n",
       "                        <th id=\"T_5f84fc26_5b29_11eb_a4b8_9cb6d016a67elevel0_row8\" class=\"row_heading level0 row8\" >PHP</th>\n",
       "                        <td id=\"T_5f84fc26_5b29_11eb_a4b8_9cb6d016a67erow8_col0\" class=\"data row8 col0\" >0.044308</td>\n",
       "                        <td id=\"T_5f84fc26_5b29_11eb_a4b8_9cb6d016a67erow8_col1\" class=\"data row8 col1\" >0.065100</td>\n",
       "                        <td id=\"T_5f84fc26_5b29_11eb_a4b8_9cb6d016a67erow8_col2\" class=\"data row8 col2\" >-0.020792</td>\n",
       "            </tr>\n",
       "            <tr>\n",
       "                        <th id=\"T_5f84fc26_5b29_11eb_a4b8_9cb6d016a67elevel0_row9\" class=\"row_heading level0 row9\" >C++</th>\n",
       "                        <td id=\"T_5f84fc26_5b29_11eb_a4b8_9cb6d016a67erow9_col0\" class=\"data row9 col0\" >0.037734</td>\n",
       "                        <td id=\"T_5f84fc26_5b29_11eb_a4b8_9cb6d016a67erow9_col1\" class=\"data row9 col1\" >0.039140</td>\n",
       "                        <td id=\"T_5f84fc26_5b29_11eb_a4b8_9cb6d016a67erow9_col2\" class=\"data row9 col2\" >-0.001406</td>\n",
       "            </tr>\n",
       "            <tr>\n",
       "                        <th id=\"T_5f84fc26_5b29_11eb_a4b8_9cb6d016a67elevel0_row10\" class=\"row_heading level0 row10\" >C</th>\n",
       "                        <td id=\"T_5f84fc26_5b29_11eb_a4b8_9cb6d016a67erow10_col0\" class=\"data row10 col0\" >0.030783</td>\n",
       "                        <td id=\"T_5f84fc26_5b29_11eb_a4b8_9cb6d016a67erow10_col1\" class=\"data row10 col1\" >0.037860</td>\n",
       "                        <td id=\"T_5f84fc26_5b29_11eb_a4b8_9cb6d016a67erow10_col2\" class=\"data row10 col2\" >-0.007077</td>\n",
       "            </tr>\n",
       "            <tr>\n",
       "                        <th id=\"T_5f84fc26_5b29_11eb_a4b8_9cb6d016a67elevel0_row11\" class=\"row_heading level0 row11\" >Go</th>\n",
       "                        <td id=\"T_5f84fc26_5b29_11eb_a4b8_9cb6d016a67erow11_col0\" class=\"data row11 col0\" >0.020963</td>\n",
       "                        <td id=\"T_5f84fc26_5b29_11eb_a4b8_9cb6d016a67erow11_col1\" class=\"data row11 col1\" >0.016470</td>\n",
       "                        <td id=\"T_5f84fc26_5b29_11eb_a4b8_9cb6d016a67erow11_col2\" class=\"data row11 col2\" >0.004493</td>\n",
       "            </tr>\n",
       "            <tr>\n",
       "                        <th id=\"T_5f84fc26_5b29_11eb_a4b8_9cb6d016a67elevel0_row12\" class=\"row_heading level0 row12\" >Ruby</th>\n",
       "                        <td id=\"T_5f84fc26_5b29_11eb_a4b8_9cb6d016a67erow12_col0\" class=\"data row12 col0\" >0.016992</td>\n",
       "                        <td id=\"T_5f84fc26_5b29_11eb_a4b8_9cb6d016a67erow12_col1\" class=\"data row12 col1\" >0.013055</td>\n",
       "                        <td id=\"T_5f84fc26_5b29_11eb_a4b8_9cb6d016a67erow12_col2\" class=\"data row12 col2\" >0.003937</td>\n",
       "            </tr>\n",
       "            <tr>\n",
       "                        <th id=\"T_5f84fc26_5b29_11eb_a4b8_9cb6d016a67elevel0_row13\" class=\"row_heading level0 row13\" >Kotlin</th>\n",
       "                        <td id=\"T_5f84fc26_5b29_11eb_a4b8_9cb6d016a67erow13_col0\" class=\"data row13 col0\" >0.015183</td>\n",
       "                        <td id=\"T_5f84fc26_5b29_11eb_a4b8_9cb6d016a67erow13_col1\" class=\"data row13 col1\" >0.018202</td>\n",
       "                        <td id=\"T_5f84fc26_5b29_11eb_a4b8_9cb6d016a67erow13_col2\" class=\"data row13 col2\" >-0.003019</td>\n",
       "            </tr>\n",
       "            <tr>\n",
       "                        <th id=\"T_5f84fc26_5b29_11eb_a4b8_9cb6d016a67elevel0_row14\" class=\"row_heading level0 row14\" >VBA</th>\n",
       "                        <td id=\"T_5f84fc26_5b29_11eb_a4b8_9cb6d016a67erow14_col0\" class=\"data row14 col0\" >0.012125</td>\n",
       "                        <td id=\"T_5f84fc26_5b29_11eb_a4b8_9cb6d016a67erow14_col1\" class=\"data row14 col1\" >0.011649</td>\n",
       "                        <td id=\"T_5f84fc26_5b29_11eb_a4b8_9cb6d016a67erow14_col2\" class=\"data row14 col2\" >0.000475</td>\n",
       "            </tr>\n",
       "            <tr>\n",
       "                        <th id=\"T_5f84fc26_5b29_11eb_a4b8_9cb6d016a67elevel0_row15\" class=\"row_heading level0 row15\" >Rust</th>\n",
       "                        <td id=\"T_5f84fc26_5b29_11eb_a4b8_9cb6d016a67erow15_col0\" class=\"data row15 col0\" >0.011330</td>\n",
       "                        <td id=\"T_5f84fc26_5b29_11eb_a4b8_9cb6d016a67erow15_col1\" class=\"data row15 col1\" >0.004695</td>\n",
       "                        <td id=\"T_5f84fc26_5b29_11eb_a4b8_9cb6d016a67erow15_col2\" class=\"data row15 col2\" >0.006636</td>\n",
       "            </tr>\n",
       "            <tr>\n",
       "                        <th id=\"T_5f84fc26_5b29_11eb_a4b8_9cb6d016a67elevel0_row16\" class=\"row_heading level0 row16\" >Swift</th>\n",
       "                        <td id=\"T_5f84fc26_5b29_11eb_a4b8_9cb6d016a67erow16_col0\" class=\"data row16 col0\" >0.011244</td>\n",
       "                        <td id=\"T_5f84fc26_5b29_11eb_a4b8_9cb6d016a67erow16_col1\" class=\"data row16 col1\" >0.013030</td>\n",
       "                        <td id=\"T_5f84fc26_5b29_11eb_a4b8_9cb6d016a67erow16_col2\" class=\"data row16 col2\" >-0.001786</td>\n",
       "            </tr>\n",
       "            <tr>\n",
       "                        <th id=\"T_5f84fc26_5b29_11eb_a4b8_9cb6d016a67elevel0_row17\" class=\"row_heading level0 row17\" >R</th>\n",
       "                        <td id=\"T_5f84fc26_5b29_11eb_a4b8_9cb6d016a67erow17_col0\" class=\"data row17 col0\" >0.011197</td>\n",
       "                        <td id=\"T_5f84fc26_5b29_11eb_a4b8_9cb6d016a67erow17_col1\" class=\"data row17 col1\" >0.009164</td>\n",
       "                        <td id=\"T_5f84fc26_5b29_11eb_a4b8_9cb6d016a67erow17_col2\" class=\"data row17 col2\" >0.002033</td>\n",
       "            </tr>\n",
       "            <tr>\n",
       "                        <th id=\"T_5f84fc26_5b29_11eb_a4b8_9cb6d016a67elevel0_row18\" class=\"row_heading level0 row18\" >Scala</th>\n",
       "                        <td id=\"T_5f84fc26_5b29_11eb_a4b8_9cb6d016a67erow18_col0\" class=\"data row18 col0\" >0.008869</td>\n",
       "                        <td id=\"T_5f84fc26_5b29_11eb_a4b8_9cb6d016a67erow18_col1\" class=\"data row18 col1\" >0.006251</td>\n",
       "                        <td id=\"T_5f84fc26_5b29_11eb_a4b8_9cb6d016a67erow18_col2\" class=\"data row18 col2\" >0.002618</td>\n",
       "            </tr>\n",
       "            <tr>\n",
       "                        <th id=\"T_5f84fc26_5b29_11eb_a4b8_9cb6d016a67elevel0_row19\" class=\"row_heading level0 row19\" >Assembly</th>\n",
       "                        <td id=\"T_5f84fc26_5b29_11eb_a4b8_9cb6d016a67erow19_col0\" class=\"data row19 col0\" >0.008791</td>\n",
       "                        <td id=\"T_5f84fc26_5b29_11eb_a4b8_9cb6d016a67erow19_col1\" class=\"data row19 col1\" >0.007582</td>\n",
       "                        <td id=\"T_5f84fc26_5b29_11eb_a4b8_9cb6d016a67erow19_col2\" class=\"data row19 col2\" >0.001209</td>\n",
       "            </tr>\n",
       "            <tr>\n",
       "                        <th id=\"T_5f84fc26_5b29_11eb_a4b8_9cb6d016a67elevel0_row20\" class=\"row_heading level0 row20\" >Objective-C</th>\n",
       "                        <td id=\"T_5f84fc26_5b29_11eb_a4b8_9cb6d016a67erow20_col0\" class=\"data row20 col0\" >0.008177</td>\n",
       "                        <td id=\"T_5f84fc26_5b29_11eb_a4b8_9cb6d016a67erow20_col1\" class=\"data row20 col1\" >0.009189</td>\n",
       "                        <td id=\"T_5f84fc26_5b29_11eb_a4b8_9cb6d016a67erow20_col2\" class=\"data row20 col2\" >-0.001011</td>\n",
       "            </tr>\n",
       "            <tr>\n",
       "                        <th id=\"T_5f84fc26_5b29_11eb_a4b8_9cb6d016a67elevel0_row21\" class=\"row_heading level0 row21\" >Perl</th>\n",
       "                        <td id=\"T_5f84fc26_5b29_11eb_a4b8_9cb6d016a67erow21_col0\" class=\"data row21 col0\" >0.007202</td>\n",
       "                        <td id=\"T_5f84fc26_5b29_11eb_a4b8_9cb6d016a67erow21_col1\" class=\"data row21 col1\" >0.003917</td>\n",
       "                        <td id=\"T_5f84fc26_5b29_11eb_a4b8_9cb6d016a67erow21_col2\" class=\"data row21 col2\" >0.003286</td>\n",
       "            </tr>\n",
       "            <tr>\n",
       "                        <th id=\"T_5f84fc26_5b29_11eb_a4b8_9cb6d016a67elevel0_row22\" class=\"row_heading level0 row22\" >Dart</th>\n",
       "                        <td id=\"T_5f84fc26_5b29_11eb_a4b8_9cb6d016a67erow22_col0\" class=\"data row22 col0\" >0.005276</td>\n",
       "                        <td id=\"T_5f84fc26_5b29_11eb_a4b8_9cb6d016a67erow22_col1\" class=\"data row22 col1\" >0.011599</td>\n",
       "                        <td id=\"T_5f84fc26_5b29_11eb_a4b8_9cb6d016a67erow22_col2\" class=\"data row22 col2\" >-0.006323</td>\n",
       "            </tr>\n",
       "            <tr>\n",
       "                        <th id=\"T_5f84fc26_5b29_11eb_a4b8_9cb6d016a67elevel0_row23\" class=\"row_heading level0 row23\" >Haskell</th>\n",
       "                        <td id=\"T_5f84fc26_5b29_11eb_a4b8_9cb6d016a67erow23_col0\" class=\"data row23 col0\" >0.003861</td>\n",
       "                        <td id=\"T_5f84fc26_5b29_11eb_a4b8_9cb6d016a67erow23_col1\" class=\"data row23 col1\" >0.001833</td>\n",
       "                        <td id=\"T_5f84fc26_5b29_11eb_a4b8_9cb6d016a67erow23_col2\" class=\"data row23 col2\" >0.002028</td>\n",
       "            </tr>\n",
       "            <tr>\n",
       "                        <th id=\"T_5f84fc26_5b29_11eb_a4b8_9cb6d016a67elevel0_row24\" class=\"row_heading level0 row24\" >Julia</th>\n",
       "                        <td id=\"T_5f84fc26_5b29_11eb_a4b8_9cb6d016a67erow24_col0\" class=\"data row24 col0\" >0.001588</td>\n",
       "                        <td id=\"T_5f84fc26_5b29_11eb_a4b8_9cb6d016a67erow24_col1\" class=\"data row24 col1\" >0.000979</td>\n",
       "                        <td id=\"T_5f84fc26_5b29_11eb_a4b8_9cb6d016a67erow24_col2\" class=\"data row24 col2\" >0.000609</td>\n",
       "            </tr>\n",
       "    </tbody></table>"
      ],
      "text/plain": [
       "<pandas.io.formats.style.Styler at 0x1c0454d9fa0>"
      ]
     },
     "execution_count": 36,
     "metadata": {},
     "output_type": "execute_result"
    }
   ],
   "source": [
    "# Dataframe with the normalized language distribution for both class of countries and the difference between Developed and Undeloveped countries\n",
    "lan = pd.DataFrame(data= [lang_dev,lang_und], index=['Developed', 'Undeveloped']).transpose()\n",
    "lan.Developed = lan.Developed/ sum(lan.Developed)\n",
    "lan.Undeveloped = lan.Undeveloped/ sum(lan.Undeveloped)\n",
    "lan[\"Diff\"] = lan.Developed - lan.Undeveloped\n",
    "lan = lan.style.bar(subset=['Diff'], align='mid', color=['#d65f5f', '#5fba7d'])\n",
    "lan"
   ]
  },
  {
   "cell_type": "code",
   "execution_count": 37,
   "metadata": {},
   "outputs": [],
   "source": [
    "# Creating classes for years of education \n",
    "df_dev['YearsCode'].replace({\"More than 50 years\": 50, \"Less than 1 year\": 1}, inplace=True)\n",
    "df_dev = df_dev.dropna(subset= [\"YearsCode\"],axis = 0)\n",
    "df_dev.YearsCode = df_dev.YearsCode.astype(int)\n",
    "df_dev.loc[df_dev['YearsCode'] <= 3, 'YearsCode_cod'] = 'max of 3 yrs'\n",
    "df_dev.loc[(df_dev['YearsCode'] > 3) & (df_dev['YearsCode'] <= 5), 'YearsCode_cod']= 'between 3 and 5 years'\n",
    "df_dev.loc[(df_dev['YearsCode']  > 5) & (df_dev['YearsCode'] <= 10) , 'YearsCode_cod' ] = 'between 5 and 10 years'\n",
    "df_dev.loc[(df_dev['YearsCode']  > 10) & (df_dev['YearsCode'] <= 20) , 'YearsCode_cod' ] = 'between 10 and 20 years'\n",
    "df_dev.loc[df_dev['YearsCode'] > 20, 'YearsCode_cod'] = 'above 20 yrs'\n",
    "\n"
   ]
  },
  {
   "cell_type": "code",
   "execution_count": 38,
   "metadata": {},
   "outputs": [
    {
     "data": {
      "text/plain": [
       "Index(['between 10 and 20 years', 'between 5 and 10 years', 'above 20 yrs',\n",
       "       'between 3 and 5 years', 'max of 3 yrs'],\n",
       "      dtype='object')"
      ]
     },
     "execution_count": 38,
     "metadata": {},
     "output_type": "execute_result"
    }
   ],
   "source": [
    "# Checking\n",
    "df_dev.YearsCode_cod.value_counts().index"
   ]
  },
  {
   "cell_type": "code",
   "execution_count": 39,
   "metadata": {
    "scrolled": false
   },
   "outputs": [
    {
     "data": {
      "image/png": "[encoded data removed]",
      "text/plain": [
       "<Figure size 1152x720 with 1 Axes>"
      ]
     },
     "metadata": {},
     "output_type": "display_data"
    }
   ],
   "source": [
    "# Plotting\n",
    "fig = plt.gcf()\n",
    "fig.set_size_inches( 16, 10)\n",
    "plt.title(\"Years coding in Developed Countries by class\",fontsize= 16, fontweight='bold' )\n",
    "ax = sns.barplot(df_dev.YearsCode_cod.value_counts().index, df_dev.YearsCode_cod.value_counts().values,\n",
    "                 order = ['max of 3 yrs','between 3 and 5 years',  'between 5 and 10 years','between 10 and 20 years', 'above 20 yrs',\n",
    "       ])"
   ]
  },
  {
   "cell_type": "code",
   "execution_count": 40,
   "metadata": {},
   "outputs": [],
   "source": [
    "# Creating classes for years of education \n",
    "df_undev['YearsCode'].replace({\"More than 50 years\": 50, \"Less than 1 year\": 1}, inplace=True)\n",
    "df_undev = df_undev.dropna(subset= [\"YearsCode\"],axis = 0)\n",
    "df_undev.YearsCode = df_undev.YearsCode.astype(int)\n",
    "df_undev.loc[df_undev['YearsCode'] <= 3, 'YearsCode_cod'] = 'max of 3 yrs'\n",
    "df_undev.loc[(df_undev['YearsCode'] > 3) & (df_undev['YearsCode'] <= 5), 'YearsCode_cod']= 'between 3 and 5 years'\n",
    "df_undev.loc[(df_undev['YearsCode']  > 5) & (df_undev['YearsCode'] <= 10) , 'YearsCode_cod' ] = 'between 5 and 10 years'\n",
    "df_undev.loc[(df_undev['YearsCode']  > 10) & (df_undev['YearsCode'] <= 20) , 'YearsCode_cod' ] = 'between 10 and 20 years'\n",
    "df_undev.loc[df_undev['YearsCode'] > 20, 'YearsCode_cod'] = 'above 20 yrs'"
   ]
  },
  {
   "cell_type": "code",
   "execution_count": 41,
   "metadata": {},
   "outputs": [
    {
     "data": {
      "image/png": "[encoded data removed]",
      "text/plain": [
       "<Figure size 1152x720 with 1 Axes>"
      ]
     },
     "metadata": {},
     "output_type": "display_data"
    }
   ],
   "source": [
    "# Plotting\n",
    "fig = plt.gcf()\n",
    "fig.set_size_inches( 16, 10)\n",
    "plt.title(\"Years coding in Undeveloped Countries by class\",fontsize= 16, fontweight='bold' )\n",
    "ax = sns.barplot(df_undev.YearsCode_cod.value_counts().index, df_undev.YearsCode_cod.value_counts().values,\n",
    "                 order = ['max of 3 yrs','between 3 and 5 years',  'between 5 and 10 years','between 10 and 20 years', 'above 20 yrs',\n",
    "       ])"
   ]
  },
  {
   "cell_type": "code",
   "execution_count": 42,
   "metadata": {},
   "outputs": [
    {
     "data": {
      "text/html": [
       "<style  type=\"text/css\" >\n",
       "#T_5fdb373c_5b29_11eb_bcba_9cb6d016a67erow0_col2{\n",
       "            width:  10em;\n",
       "             height:  80%;\n",
       "            background:  linear-gradient(90deg, transparent 68.1%, #5fba7d 68.1%, #5fba7d 100.0%, transparent 100.0%);\n",
       "        }#T_5fdb373c_5b29_11eb_bcba_9cb6d016a67erow1_col2{\n",
       "            width:  10em;\n",
       "             height:  80%;\n",
       "            background:  linear-gradient(90deg, transparent 68.1%, #5fba7d 68.1%, #5fba7d 95.3%, transparent 95.3%);\n",
       "        }#T_5fdb373c_5b29_11eb_bcba_9cb6d016a67erow2_col2{\n",
       "            width:  10em;\n",
       "             height:  80%;\n",
       "            background:  linear-gradient(90deg, transparent 68.1%, #5fba7d 68.1%, #5fba7d 94.0%, transparent 94.0%);\n",
       "        }#T_5fdb373c_5b29_11eb_bcba_9cb6d016a67erow3_col2{\n",
       "            width:  10em;\n",
       "             height:  80%;\n",
       "            background:  linear-gradient(90deg, transparent 51.4%, #d65f5f 51.4%, #d65f5f 68.1%, transparent 68.1%);\n",
       "        }#T_5fdb373c_5b29_11eb_bcba_9cb6d016a67erow4_col2{\n",
       "            width:  10em;\n",
       "             height:  80%;\n",
       "            background:  linear-gradient(90deg,#d65f5f 68.1%, transparent 68.1%);\n",
       "        }</style><table id=\"T_5fdb373c_5b29_11eb_bcba_9cb6d016a67e\" ><thead>    <tr>        <th class=\"blank level0\" ></th>        <th class=\"col_heading level0 col0\" >Developed</th>        <th class=\"col_heading level0 col1\" >Undeveloped</th>        <th class=\"col_heading level0 col2\" >Diff</th>    </tr></thead><tbody>\n",
       "                <tr>\n",
       "                        <th id=\"T_5fdb373c_5b29_11eb_bcba_9cb6d016a67elevel0_row0\" class=\"row_heading level0 row0\" >Never</th>\n",
       "                        <td id=\"T_5fdb373c_5b29_11eb_bcba_9cb6d016a67erow0_col0\" class=\"data row0 col0\" >0.121233</td>\n",
       "                        <td id=\"T_5fdb373c_5b29_11eb_bcba_9cb6d016a67erow0_col1\" class=\"data row0 col1\" >0.074283</td>\n",
       "                        <td id=\"T_5fdb373c_5b29_11eb_bcba_9cb6d016a67erow0_col2\" class=\"data row0 col2\" >0.046950</td>\n",
       "            </tr>\n",
       "            <tr>\n",
       "                        <th id=\"T_5fdb373c_5b29_11eb_bcba_9cb6d016a67elevel0_row1\" class=\"row_heading level0 row1\" >Rarely: 1-2 days per year or less</th>\n",
       "                        <td id=\"T_5fdb373c_5b29_11eb_bcba_9cb6d016a67erow1_col0\" class=\"data row1 col0\" >0.161497</td>\n",
       "                        <td id=\"T_5fdb373c_5b29_11eb_bcba_9cb6d016a67erow1_col1\" class=\"data row1 col1\" >0.121476</td>\n",
       "                        <td id=\"T_5fdb373c_5b29_11eb_bcba_9cb6d016a67erow1_col2\" class=\"data row1 col2\" >0.040021</td>\n",
       "            </tr>\n",
       "            <tr>\n",
       "                        <th id=\"T_5fdb373c_5b29_11eb_bcba_9cb6d016a67elevel0_row2\" class=\"row_heading level0 row2\" >Occasionally: 1-2 days per quarter but less than monthly</th>\n",
       "                        <td id=\"T_5fdb373c_5b29_11eb_bcba_9cb6d016a67erow2_col0\" class=\"data row2 col0\" >0.233700</td>\n",
       "                        <td id=\"T_5fdb373c_5b29_11eb_bcba_9cb6d016a67erow2_col1\" class=\"data row2 col1\" >0.195636</td>\n",
       "                        <td id=\"T_5fdb373c_5b29_11eb_bcba_9cb6d016a67erow2_col2\" class=\"data row2 col2\" >0.038064</td>\n",
       "            </tr>\n",
       "            <tr>\n",
       "                        <th id=\"T_5fdb373c_5b29_11eb_bcba_9cb6d016a67elevel0_row3\" class=\"row_heading level0 row3\" >Sometimes: 1-2 days per month but less than weekly</th>\n",
       "                        <td id=\"T_5fdb373c_5b29_11eb_bcba_9cb6d016a67erow3_col0\" class=\"data row3 col0\" >0.262798</td>\n",
       "                        <td id=\"T_5fdb373c_5b29_11eb_bcba_9cb6d016a67erow3_col1\" class=\"data row3 col1\" >0.287448</td>\n",
       "                        <td id=\"T_5fdb373c_5b29_11eb_bcba_9cb6d016a67erow3_col2\" class=\"data row3 col2\" >-0.024650</td>\n",
       "            </tr>\n",
       "            <tr>\n",
       "                        <th id=\"T_5fdb373c_5b29_11eb_bcba_9cb6d016a67elevel0_row4\" class=\"row_heading level0 row4\" >Often: 1-2 days per week or more</th>\n",
       "                        <td id=\"T_5fdb373c_5b29_11eb_bcba_9cb6d016a67erow4_col0\" class=\"data row4 col0\" >0.220772</td>\n",
       "                        <td id=\"T_5fdb373c_5b29_11eb_bcba_9cb6d016a67erow4_col1\" class=\"data row4 col1\" >0.321157</td>\n",
       "                        <td id=\"T_5fdb373c_5b29_11eb_bcba_9cb6d016a67erow4_col2\" class=\"data row4 col2\" >-0.100385</td>\n",
       "            </tr>\n",
       "    </tbody></table>"
      ],
      "text/plain": [
       "<pandas.io.formats.style.Styler at 0x1c04a23d9d0>"
      ]
     },
     "execution_count": 42,
     "metadata": {},
     "output_type": "execute_result"
    }
   ],
   "source": [
    "# Dataframe with the normalized overtime worked distribution for both class of countries and the difference between Developed and Undeloveped countries\n",
    "over = pd.DataFrame(data= [df_dev.NEWOvertime.value_counts(normalize=True), df_undev.NEWOvertime.value_counts(normalize=True)], index=['Developed', 'Undeveloped']).transpose()\n",
    "over[\"Diff\"] = over.Developed - over.Undeveloped\n",
    "over = over.reindex(['Never', 'Rarely: 1-2 days per year or less','Occasionally: 1-2 days per quarter but less than monthly',\n",
    "              'Sometimes: 1-2 days per month but less than weekly', 'Often: 1-2 days per week or more'])\n",
    "over = over.style.bar(subset=['Diff'], align='mid', color=['#d65f5f', '#5fba7d'])\n",
    "\n",
    "over"
   ]
  },
  {
   "cell_type": "code",
   "execution_count": null,
   "metadata": {},
   "outputs": [],
   "source": []
  },
  {
   "cell_type": "code",
   "execution_count": null,
   "metadata": {},
   "outputs": [],
   "source": []
  }
 ],
 "metadata": {
  "kernelspec": {
   "display_name": "Python 3",
   "language": "python",
   "name": "python3"
  },
  "language_info": {
   "codemirror_mode": {
    "name": "ipython",
    "version": 3
   },
   "file_extension": ".py",
   "mimetype": "text/x-python",
   "name": "python",
   "nbconvert_exporter": "python",
   "pygments_lexer": "ipython3",
   "version": "3.8.5"
  }
 },
 "nbformat": 4,
 "nbformat_minor": 4
}
